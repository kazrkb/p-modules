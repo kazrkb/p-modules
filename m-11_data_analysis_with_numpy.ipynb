{
 "cells": [
  {
   "cell_type": "code",
   "execution_count": 1,
   "id": "78080a47",
   "metadata": {},
   "outputs": [],
   "source": [
    "import numpy as np"
   ]
  },
  {
   "cell_type": "code",
   "execution_count": 2,
   "id": "36e9c253",
   "metadata": {},
   "outputs": [
    {
     "name": "stdout",
     "output_type": "stream",
     "text": [
      "[[43  4 98 85 34]\n",
      " [75 73 85 37 67]\n",
      " [71 13 66 58 84]\n",
      " [ 2 60 10 94 52]\n",
      " [39 86 59 28 15]\n",
      " [16 51 40 45 10]\n",
      " [53  7 47 52 33]\n",
      " [12  6 42 12 95]\n",
      " [92 77 75 22 30]\n",
      " [18  5 20 96 89]]\n"
     ]
    }
   ],
   "source": [
    "arr = np.random.randint(1,99, size=(10,5))\n",
    "print(arr)"
   ]
  },
  {
   "cell_type": "code",
   "execution_count": 3,
   "id": "d78a9593",
   "metadata": {},
   "outputs": [
    {
     "name": "stdout",
     "output_type": "stream",
     "text": [
      "(10, 5)\n",
      "[[43  4 98 85 34 75 73 85 37 67]\n",
      " [71 13 66 58 84  2 60 10 94 52]\n",
      " [39 86 59 28 15 16 51 40 45 10]\n",
      " [53  7 47 52 33 12  6 42 12 95]\n",
      " [92 77 75 22 30 18  5 20 96 89]]\n",
      "(5, 10)\n"
     ]
    }
   ],
   "source": [
    "print(arr.shape)\n",
    "r_arr = arr.reshape(5,10)\n",
    "print(r_arr)\n",
    "print(r_arr.shape)"
   ]
  },
  {
   "cell_type": "code",
   "execution_count": 4,
   "id": "d721a94e",
   "metadata": {},
   "outputs": [
    {
     "name": "stdout",
     "output_type": "stream",
     "text": [
      "[43  4 98 85 34 75 73 85 37 67 71 13 66 58 84  2 60 10 94 52 39 86 59 28\n",
      " 15 16 51 40 45 10 53  7 47 52 33 12  6 42 12 95 92 77 75 22 30 18  5 20\n",
      " 96 89]\n"
     ]
    }
   ],
   "source": [
    "# Row wise flattening\n",
    "flatten_arr = r_arr.flatten()\n",
    "print(flatten_arr)"
   ]
  },
  {
   "cell_type": "code",
   "execution_count": 5,
   "id": "ccf7bbd5",
   "metadata": {},
   "outputs": [
    {
     "name": "stdout",
     "output_type": "stream",
     "text": [
      "[43 71 39 53 92  4 13 86  7 77 98 66 59 47 75 85 58 28 52 22 34 84 15 33\n",
      " 30 75  2 16 12 18 73 60 51  6  5 85 10 40 42 20 37 94 45 12 96 67 52 10\n",
      " 95 89]\n"
     ]
    }
   ],
   "source": [
    "# column wise flattening (use Fortran order for column-major)\n",
    "c_flatten_arr = np.ravel(r_arr, order=\"F\")\n",
    "print(c_flatten_arr)"
   ]
  },
  {
   "cell_type": "code",
   "execution_count": 6,
   "id": "724c8889",
   "metadata": {},
   "outputs": [
    {
     "name": "stdout",
     "output_type": "stream",
     "text": [
      "[[4 5 9]\n",
      " [4 8 3]]\n",
      "[[21 20 21]\n",
      " [22 20 25]]\n"
     ]
    }
   ],
   "source": [
    "# concatenate\n",
    "a = np.random.randint(1,10,size=(2,3))\n",
    "b = np.random.randint(20,30,size=(2,3))\n",
    "print(a)\n",
    "print(b)\n"
   ]
  },
  {
   "cell_type": "code",
   "execution_count": 7,
   "id": "b3c448ff",
   "metadata": {},
   "outputs": [
    {
     "name": "stdout",
     "output_type": "stream",
     "text": [
      "[[ 4  5  9]\n",
      " [ 4  8  3]\n",
      " [21 20 21]\n",
      " [22 20 25]]\n"
     ]
    }
   ],
   "source": [
    "con_row = np.concatenate((a,b),axis=0) #axis=0 is row\n",
    "print(con_row)"
   ]
  },
  {
   "cell_type": "code",
   "execution_count": 8,
   "id": "71a571f2",
   "metadata": {},
   "outputs": [
    {
     "name": "stdout",
     "output_type": "stream",
     "text": [
      "[[ 4  5  9 21 20 21]\n",
      " [ 4  8  3 22 20 25]]\n"
     ]
    }
   ],
   "source": [
    "con_col = np.concatenate((a,b),axis=1)\n",
    "print(con_col)"
   ]
  },
  {
   "cell_type": "code",
   "execution_count": 9,
   "id": "6469fa07",
   "metadata": {},
   "outputs": [
    {
     "name": "stdout",
     "output_type": "stream",
     "text": [
      "[[2 5]\n",
      " [3 6]\n",
      " [4 7]]\n"
     ]
    }
   ],
   "source": [
    "## tanspose\n",
    "\n",
    "mat = np.array([\n",
    "    [2,3,4],\n",
    "    [5,6,7]\n",
    "])\n",
    "\n",
    "traspose = mat.T\n",
    "print(traspose)"
   ]
  },
  {
   "cell_type": "code",
   "execution_count": 12,
   "id": "75f96da0",
   "metadata": {},
   "outputs": [
    {
     "name": "stdout",
     "output_type": "stream",
     "text": [
      "[0 1 2 3 4 5 6 7 8 9]\n",
      "[array([0, 1, 2, 3]), array([4, 5, 6]), array([7, 8, 9])]\n"
     ]
    }
   ],
   "source": [
    "import numpy as np\n",
    "\n",
    "# Create a 1D array\n",
    "arr = np.arange(10)\n",
    "print(arr)\n",
    "\n",
    "splitted_arr = np.array_split(arr,3)\n",
    "print(splitted_arr)"
   ]
  },
  {
   "cell_type": "code",
   "execution_count": 13,
   "id": "07026214",
   "metadata": {},
   "outputs": [
    {
     "ename": "ValueError",
     "evalue": "array split does not result in an equal division",
     "output_type": "error",
     "traceback": [
      "\u001b[31m---------------------------------------------------------------------------\u001b[39m",
      "\u001b[31mValueError\u001b[39m                                Traceback (most recent call last)",
      "\u001b[36mCell\u001b[39m\u001b[36m \u001b[39m\u001b[32mIn[13]\u001b[39m\u001b[32m, line 1\u001b[39m\n\u001b[32m----> \u001b[39m\u001b[32m1\u001b[39m splitted_arr = \u001b[43mnp\u001b[49m\u001b[43m.\u001b[49m\u001b[43msplit\u001b[49m\u001b[43m(\u001b[49m\u001b[43marr\u001b[49m\u001b[43m,\u001b[49m\u001b[32;43m3\u001b[39;49m\u001b[43m)\u001b[49m\n",
      "\u001b[36mFile \u001b[39m\u001b[32mc:\\Users\\kazrk\\anaconda3\\envs\\anaconda-ml-ai\\Lib\\site-packages\\numpy\\lib\\_shape_base_impl.py:889\u001b[39m, in \u001b[36msplit\u001b[39m\u001b[34m(ary, indices_or_sections, axis)\u001b[39m\n\u001b[32m    887\u001b[39m     N = ary.shape[axis]\n\u001b[32m    888\u001b[39m     \u001b[38;5;28;01mif\u001b[39;00m N % sections:\n\u001b[32m--> \u001b[39m\u001b[32m889\u001b[39m         \u001b[38;5;28;01mraise\u001b[39;00m \u001b[38;5;167;01mValueError\u001b[39;00m(\n\u001b[32m    890\u001b[39m             \u001b[33m'\u001b[39m\u001b[33marray split does not result in an equal division\u001b[39m\u001b[33m'\u001b[39m) \u001b[38;5;28;01mfrom\u001b[39;00m\u001b[38;5;250m \u001b[39m\u001b[38;5;28;01mNone\u001b[39;00m\n\u001b[32m    891\u001b[39m \u001b[38;5;28;01mreturn\u001b[39;00m array_split(ary, indices_or_sections, axis)\n",
      "\u001b[31mValueError\u001b[39m: array split does not result in an equal division"
     ]
    }
   ],
   "source": [
    "splitted_arr = np.split(arr,3)"
   ]
  },
  {
   "cell_type": "code",
   "execution_count": null,
   "id": "a5fc188e",
   "metadata": {},
   "outputs": [],
   "source": []
  }
 ],
 "metadata": {
  "kernelspec": {
   "display_name": "anaconda-ml-ai",
   "language": "python",
   "name": "python3"
  },
  "language_info": {
   "codemirror_mode": {
    "name": "ipython",
    "version": 3
   },
   "file_extension": ".py",
   "mimetype": "text/x-python",
   "name": "python",
   "nbconvert_exporter": "python",
   "pygments_lexer": "ipython3",
   "version": "3.11.13"
  }
 },
 "nbformat": 4,
 "nbformat_minor": 5
}
