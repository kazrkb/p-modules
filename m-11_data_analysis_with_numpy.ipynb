{
 "cells": [
  {
   "cell_type": "code",
   "execution_count": 1,
   "id": "78080a47",
   "metadata": {},
   "outputs": [],
   "source": [
    "import numpy as np"
   ]
  },
  {
   "cell_type": "code",
   "execution_count": 2,
   "id": "36e9c253",
   "metadata": {},
   "outputs": [
    {
     "name": "stdout",
     "output_type": "stream",
     "text": [
      "[[52 39 87 57 95]\n",
      " [82 72 78 49 68]\n",
      " [81  3 75 16 67]\n",
      " [35 65  2 32 74]\n",
      " [71 92 22  6 95]\n",
      " [40 68 12 54 64]\n",
      " [87 60 39 42 48]\n",
      " [55 34 86  8 97]\n",
      " [ 6 23  5 41 27]\n",
      " [31 35 70 24  6]]\n"
     ]
    }
   ],
   "source": [
    "arr = np.random.randint(1,99, size=(10,5))\n",
    "print(arr)"
   ]
  },
  {
   "cell_type": "code",
   "execution_count": 3,
   "id": "d78a9593",
   "metadata": {},
   "outputs": [
    {
     "name": "stdout",
     "output_type": "stream",
     "text": [
      "(10, 5)\n",
      "[[52 39 87 57 95 82 72 78 49 68]\n",
      " [81  3 75 16 67 35 65  2 32 74]\n",
      " [71 92 22  6 95 40 68 12 54 64]\n",
      " [87 60 39 42 48 55 34 86  8 97]\n",
      " [ 6 23  5 41 27 31 35 70 24  6]]\n",
      "(5, 10)\n"
     ]
    }
   ],
   "source": [
    "print(arr.shape)\n",
    "r_arr = arr.reshape(5,10)\n",
    "print(r_arr)\n",
    "print(r_arr.shape)"
   ]
  },
  {
   "cell_type": "code",
   "execution_count": 4,
   "id": "d721a94e",
   "metadata": {},
   "outputs": [
    {
     "name": "stdout",
     "output_type": "stream",
     "text": [
      "[52 39 87 57 95 82 72 78 49 68 81  3 75 16 67 35 65  2 32 74 71 92 22  6\n",
      " 95 40 68 12 54 64 87 60 39 42 48 55 34 86  8 97  6 23  5 41 27 31 35 70\n",
      " 24  6]\n"
     ]
    }
   ],
   "source": [
    "# Row wise flattening\n",
    "flatten_arr = r_arr.flatten()\n",
    "print(flatten_arr)"
   ]
  },
  {
   "cell_type": "code",
   "execution_count": 5,
   "id": "ccf7bbd5",
   "metadata": {},
   "outputs": [
    {
     "name": "stdout",
     "output_type": "stream",
     "text": [
      "[52 81 71 87  6 39  3 92 60 23 87 75 22 39  5 57 16  6 42 41 95 67 95 48\n",
      " 27 82 35 40 55 31 72 65 68 34 35 78  2 12 86 70 49 32 54  8 24 68 74 64\n",
      " 97  6]\n"
     ]
    }
   ],
   "source": [
    "# column wise flattening (use Fortran order for column-major)\n",
    "c_flatten_arr = np.ravel(r_arr, order=\"F\")\n",
    "print(c_flatten_arr)"
   ]
  },
  {
   "cell_type": "code",
   "execution_count": 6,
   "id": "724c8889",
   "metadata": {},
   "outputs": [
    {
     "name": "stdout",
     "output_type": "stream",
     "text": [
      "[[7 4 7]\n",
      " [9 7 5]]\n",
      "[[21 24 23]\n",
      " [23 26 28]]\n"
     ]
    }
   ],
   "source": [
    "# concatenate\n",
    "a = np.random.randint(1,10,size=(2,3))\n",
    "b = np.random.randint(20,30,size=(2,3))\n",
    "print(a)\n",
    "print(b)\n"
   ]
  },
  {
   "cell_type": "code",
   "execution_count": 7,
   "id": "b3c448ff",
   "metadata": {},
   "outputs": [
    {
     "name": "stdout",
     "output_type": "stream",
     "text": [
      "[[ 7  4  7]\n",
      " [ 9  7  5]\n",
      " [21 24 23]\n",
      " [23 26 28]]\n"
     ]
    }
   ],
   "source": [
    "con_row = np.concatenate((a,b),axis=0) #axis=0 is row\n",
    "print(con_row)"
   ]
  },
  {
   "cell_type": "code",
   "execution_count": 8,
   "id": "71a571f2",
   "metadata": {},
   "outputs": [
    {
     "name": "stdout",
     "output_type": "stream",
     "text": [
      "[[ 7  4  7 21 24 23]\n",
      " [ 9  7  5 23 26 28]]\n"
     ]
    }
   ],
   "source": [
    "con_col = np.concatenate((a,b),axis=1)\n",
    "print(con_col)"
   ]
  },
  {
   "cell_type": "code",
   "execution_count": 9,
   "id": "6469fa07",
   "metadata": {},
   "outputs": [
    {
     "name": "stdout",
     "output_type": "stream",
     "text": [
      "[[2 5]\n",
      " [3 6]\n",
      " [4 7]]\n"
     ]
    }
   ],
   "source": [
    "## tanspose\n",
    "\n",
    "mat = np.array([\n",
    "    [2,3,4],\n",
    "    [5,6,7]\n",
    "])\n",
    "\n",
    "traspose = mat.T\n",
    "print(traspose)"
   ]
  },
  {
   "cell_type": "code",
   "execution_count": 10,
   "id": "75f96da0",
   "metadata": {},
   "outputs": [
    {
     "name": "stdout",
     "output_type": "stream",
     "text": [
      "[0 1 2 3 4 5 6 7 8 9]\n",
      "[array([0, 1, 2, 3]), array([4, 5, 6]), array([7, 8, 9])]\n"
     ]
    }
   ],
   "source": [
    "import numpy as np\n",
    "\n",
    "# Create a 1D array\n",
    "arr = np.arange(10)\n",
    "print(arr)\n",
    "\n",
    "splitted_arr = np.array_split(arr,3)\n",
    "print(splitted_arr)"
   ]
  },
  {
   "cell_type": "code",
   "execution_count": 11,
   "id": "07026214",
   "metadata": {},
   "outputs": [
    {
     "ename": "ValueError",
     "evalue": "array split does not result in an equal division",
     "output_type": "error",
     "traceback": [
      "\u001b[31m---------------------------------------------------------------------------\u001b[39m",
      "\u001b[31mValueError\u001b[39m                                Traceback (most recent call last)",
      "\u001b[36mCell\u001b[39m\u001b[36m \u001b[39m\u001b[32mIn[11]\u001b[39m\u001b[32m, line 1\u001b[39m\n\u001b[32m----> \u001b[39m\u001b[32m1\u001b[39m splitted_arr = \u001b[43mnp\u001b[49m\u001b[43m.\u001b[49m\u001b[43msplit\u001b[49m\u001b[43m(\u001b[49m\u001b[43marr\u001b[49m\u001b[43m,\u001b[49m\u001b[32;43m3\u001b[39;49m\u001b[43m)\u001b[49m\n",
      "\u001b[36mFile \u001b[39m\u001b[32mc:\\Users\\kazrk\\anaconda3\\envs\\anaconda-ml-ai\\Lib\\site-packages\\numpy\\lib\\_shape_base_impl.py:889\u001b[39m, in \u001b[36msplit\u001b[39m\u001b[34m(ary, indices_or_sections, axis)\u001b[39m\n\u001b[32m    887\u001b[39m     N = ary.shape[axis]\n\u001b[32m    888\u001b[39m     \u001b[38;5;28;01mif\u001b[39;00m N % sections:\n\u001b[32m--> \u001b[39m\u001b[32m889\u001b[39m         \u001b[38;5;28;01mraise\u001b[39;00m \u001b[38;5;167;01mValueError\u001b[39;00m(\n\u001b[32m    890\u001b[39m             \u001b[33m'\u001b[39m\u001b[33marray split does not result in an equal division\u001b[39m\u001b[33m'\u001b[39m) \u001b[38;5;28;01mfrom\u001b[39;00m\u001b[38;5;250m \u001b[39m\u001b[38;5;28;01mNone\u001b[39;00m\n\u001b[32m    891\u001b[39m \u001b[38;5;28;01mreturn\u001b[39;00m array_split(ary, indices_or_sections, axis)\n",
      "\u001b[31mValueError\u001b[39m: array split does not result in an equal division"
     ]
    }
   ],
   "source": [
    "splitted_arr = np.split(arr,3)"
   ]
  },
  {
   "cell_type": "markdown",
   "id": "bd6e948b",
   "metadata": {},
   "source": [
    "### Arithmetic operator and mathematical function"
   ]
  },
  {
   "cell_type": "code",
   "execution_count": 14,
   "id": "a5fc188e",
   "metadata": {},
   "outputs": [
    {
     "name": "stdout",
     "output_type": "stream",
     "text": [
      "[ 5  8 10 22]\n",
      "[-3 -2 -2  8]\n",
      "[  4  15  24 105]\n",
      "[0.25       0.6        0.66666667 2.14285714]\n",
      "[1 3 4 1]\n"
     ]
    }
   ],
   "source": [
    "x = np.array([1, 3,4,15])\n",
    "y = np.array([4,5,6,7])\n",
    "add = x + y\n",
    "print(add)\n",
    "\n",
    "sub = x - y\n",
    "print(sub)\n",
    "\n",
    "mul = x*y\n",
    "print(mul)\n",
    "\n",
    "div = x/y\n",
    "print(div)\n",
    "\n",
    "mod = x%y\n",
    "print(mod)"
   ]
  },
  {
   "cell_type": "code",
   "execution_count": 16,
   "id": "af7888e7",
   "metadata": {},
   "outputs": [
    {
     "name": "stdout",
     "output_type": "stream",
     "text": [
      "[ 0.84147098  0.14112001 -0.7568025   0.65028784]\n",
      "[ 48.21273601   8.08558087 -43.36158891  37.25874871]\n"
     ]
    }
   ],
   "source": [
    "#trigonometry and values are in redian\n",
    "\n",
    "sin_val = np.sin(x)\n",
    "print(sin_val)\n",
    "# degree and rad conversion\n",
    "\n",
    "deg_val = np.rad2deg(sin_val)\n",
    "print(deg_val)"
   ]
  },
  {
   "cell_type": "code",
   "execution_count": 18,
   "id": "dd7d4a7b",
   "metadata": {},
   "outputs": [
    {
     "name": "stdout",
     "output_type": "stream",
     "text": [
      "[0.         0.30103    0.47712125 0.60205999 0.69897    0.77815125\n",
      " 0.84509804 0.90308999 1.        ]\n"
     ]
    }
   ],
   "source": [
    "# log\n",
    "x = np.array([1,2,3,4,5,6,7,8,10])\n",
    "l = np.log10(x)\n",
    "print(l)\n"
   ]
  },
  {
   "cell_type": "code",
   "execution_count": 20,
   "id": "fa2132af",
   "metadata": {},
   "outputs": [
    {
     "name": "stdout",
     "output_type": "stream",
     "text": [
      "[2.         4.         4.47213595 5.        ]\n"
     ]
    }
   ],
   "source": [
    "# squire root\n",
    "x = np.array([4,16,20,25])\n",
    "sqrt = np.sqrt(x)\n",
    "print(sqrt)"
   ]
  },
  {
   "cell_type": "code",
   "execution_count": 21,
   "id": "cafcfd9f",
   "metadata": {},
   "outputs": [
    {
     "name": "stdout",
     "output_type": "stream",
     "text": [
      "65\n",
      "[ 4 20 40 65]\n"
     ]
    }
   ],
   "source": [
    "x = np.array([4,16,20,25])\n",
    "summation = np.sum(x)\n",
    "print(summation)\n",
    "c_sum = np.cumulative_sum(x)\n",
    "print(c_sum)"
   ]
  },
  {
   "cell_type": "code",
   "execution_count": null,
   "id": "7ed9bf5e",
   "metadata": {},
   "outputs": [],
   "source": []
  }
 ],
 "metadata": {
  "kernelspec": {
   "display_name": "anaconda-ml-ai",
   "language": "python",
   "name": "python3"
  },
  "language_info": {
   "codemirror_mode": {
    "name": "ipython",
    "version": 3
   },
   "file_extension": ".py",
   "mimetype": "text/x-python",
   "name": "python",
   "nbconvert_exporter": "python",
   "pygments_lexer": "ipython3",
   "version": "3.11.13"
  }
 },
 "nbformat": 4,
 "nbformat_minor": 5
}
