{
 "cells": [
  {
   "cell_type": "code",
   "execution_count": 53,
   "id": "78080a47",
   "metadata": {},
   "outputs": [],
   "source": [
    "import numpy as np"
   ]
  },
  {
   "cell_type": "code",
   "execution_count": 54,
   "id": "36e9c253",
   "metadata": {},
   "outputs": [
    {
     "name": "stdout",
     "output_type": "stream",
     "text": [
      "[[35 74 14 20 69]\n",
      " [31 93 89 17 82]\n",
      " [78 57  3 46 52]\n",
      " [ 5 14 33 93  6]\n",
      " [29 50 76 89 97]\n",
      " [15 69 20 44 34]\n",
      " [70  9 68 33 38]\n",
      " [30 31 75 30 36]\n",
      " [40 83 54 18 83]\n",
      " [ 7 10 82 41 19]]\n"
     ]
    }
   ],
   "source": [
    "arr = np.random.randint(1,99, size=(10,5))\n",
    "print(arr)"
   ]
  },
  {
   "cell_type": "code",
   "execution_count": 55,
   "id": "d78a9593",
   "metadata": {},
   "outputs": [
    {
     "name": "stdout",
     "output_type": "stream",
     "text": [
      "(10, 5)\n",
      "[[35 74 14 20 69 31 93 89 17 82]\n",
      " [78 57  3 46 52  5 14 33 93  6]\n",
      " [29 50 76 89 97 15 69 20 44 34]\n",
      " [70  9 68 33 38 30 31 75 30 36]\n",
      " [40 83 54 18 83  7 10 82 41 19]]\n",
      "(5, 10)\n"
     ]
    }
   ],
   "source": [
    "print(arr.shape)\n",
    "r_arr = arr.reshape(5,10)\n",
    "print(r_arr)\n",
    "print(r_arr.shape)"
   ]
  },
  {
   "cell_type": "code",
   "execution_count": 56,
   "id": "d721a94e",
   "metadata": {},
   "outputs": [
    {
     "name": "stdout",
     "output_type": "stream",
     "text": [
      "[35 74 14 20 69 31 93 89 17 82 78 57  3 46 52  5 14 33 93  6 29 50 76 89\n",
      " 97 15 69 20 44 34 70  9 68 33 38 30 31 75 30 36 40 83 54 18 83  7 10 82\n",
      " 41 19]\n"
     ]
    }
   ],
   "source": [
    "# Row wise flattening\n",
    "flatten_arr = r_arr.flatten()\n",
    "print(flatten_arr)"
   ]
  },
  {
   "cell_type": "code",
   "execution_count": 57,
   "id": "ccf7bbd5",
   "metadata": {},
   "outputs": [
    {
     "name": "stdout",
     "output_type": "stream",
     "text": [
      "[35 78 29 70 40 74 57 50  9 83 14  3 76 68 54 20 46 89 33 18 69 52 97 38\n",
      " 83 31  5 15 30  7 93 14 69 31 10 89 33 20 75 82 17 93 44 30 41 82  6 34\n",
      " 36 19]\n"
     ]
    }
   ],
   "source": [
    "# column wise flattening (use Fortran order for column-major)\n",
    "c_flatten_arr = np.ravel(r_arr, order=\"F\")\n",
    "print(c_flatten_arr)"
   ]
  },
  {
   "cell_type": "code",
   "execution_count": 58,
   "id": "724c8889",
   "metadata": {},
   "outputs": [
    {
     "name": "stdout",
     "output_type": "stream",
     "text": [
      "[[7 7 8]\n",
      " [2 5 1]]\n",
      "[[20 21 28]\n",
      " [27 23 26]]\n"
     ]
    }
   ],
   "source": [
    "# concatenate\n",
    "a = np.random.randint(1,10,size=(2,3))\n",
    "b = np.random.randint(20,30,size=(2,3))\n",
    "print(a)\n",
    "print(b)\n"
   ]
  },
  {
   "cell_type": "code",
   "execution_count": 59,
   "id": "b3c448ff",
   "metadata": {},
   "outputs": [
    {
     "name": "stdout",
     "output_type": "stream",
     "text": [
      "[[ 7  7  8]\n",
      " [ 2  5  1]\n",
      " [20 21 28]\n",
      " [27 23 26]]\n"
     ]
    }
   ],
   "source": [
    "con_row = np.concatenate((a,b),axis=0) #axis=0 is row\n",
    "print(con_row)"
   ]
  },
  {
   "cell_type": "code",
   "execution_count": 60,
   "id": "71a571f2",
   "metadata": {},
   "outputs": [
    {
     "name": "stdout",
     "output_type": "stream",
     "text": [
      "[[ 7  7  8 20 21 28]\n",
      " [ 2  5  1 27 23 26]]\n"
     ]
    }
   ],
   "source": [
    "con_col = np.concatenate((a,b),axis=1)\n",
    "print(con_col)"
   ]
  },
  {
   "cell_type": "code",
   "execution_count": 61,
   "id": "6469fa07",
   "metadata": {},
   "outputs": [
    {
     "name": "stdout",
     "output_type": "stream",
     "text": [
      "[[2 5]\n",
      " [3 6]\n",
      " [4 7]]\n"
     ]
    }
   ],
   "source": [
    "## tanspose\n",
    "\n",
    "mat = np.array([\n",
    "    [2,3,4],\n",
    "    [5,6,7]\n",
    "])\n",
    "\n",
    "traspose = mat.T\n",
    "print(traspose)"
   ]
  },
  {
   "cell_type": "code",
   "execution_count": 62,
   "id": "75f96da0",
   "metadata": {},
   "outputs": [
    {
     "name": "stdout",
     "output_type": "stream",
     "text": [
      "[0 1 2 3 4 5 6 7 8 9]\n",
      "[array([0, 1, 2, 3]), array([4, 5, 6]), array([7, 8, 9])]\n"
     ]
    }
   ],
   "source": [
    "import numpy as np\n",
    "\n",
    "# Create a 1D array\n",
    "arr = np.arange(10)\n",
    "print(arr)\n",
    "\n",
    "splitted_arr = np.array_split(arr,3)\n",
    "print(splitted_arr)"
   ]
  },
  {
   "cell_type": "code",
   "execution_count": 63,
   "id": "07026214",
   "metadata": {},
   "outputs": [
    {
     "ename": "ValueError",
     "evalue": "array split does not result in an equal division",
     "output_type": "error",
     "traceback": [
      "\u001b[31m---------------------------------------------------------------------------\u001b[39m",
      "\u001b[31mValueError\u001b[39m                                Traceback (most recent call last)",
      "\u001b[36mCell\u001b[39m\u001b[36m \u001b[39m\u001b[32mIn[63]\u001b[39m\u001b[32m, line 1\u001b[39m\n\u001b[32m----> \u001b[39m\u001b[32m1\u001b[39m splitted_arr = \u001b[43mnp\u001b[49m\u001b[43m.\u001b[49m\u001b[43msplit\u001b[49m\u001b[43m(\u001b[49m\u001b[43marr\u001b[49m\u001b[43m,\u001b[49m\u001b[32;43m3\u001b[39;49m\u001b[43m)\u001b[49m\n",
      "\u001b[36mFile \u001b[39m\u001b[32mc:\\Users\\kazrk\\anaconda3\\envs\\anaconda-ml-ai\\Lib\\site-packages\\numpy\\lib\\_shape_base_impl.py:889\u001b[39m, in \u001b[36msplit\u001b[39m\u001b[34m(ary, indices_or_sections, axis)\u001b[39m\n\u001b[32m    887\u001b[39m     N = ary.shape[axis]\n\u001b[32m    888\u001b[39m     \u001b[38;5;28;01mif\u001b[39;00m N % sections:\n\u001b[32m--> \u001b[39m\u001b[32m889\u001b[39m         \u001b[38;5;28;01mraise\u001b[39;00m \u001b[38;5;167;01mValueError\u001b[39;00m(\n\u001b[32m    890\u001b[39m             \u001b[33m'\u001b[39m\u001b[33marray split does not result in an equal division\u001b[39m\u001b[33m'\u001b[39m) \u001b[38;5;28;01mfrom\u001b[39;00m\u001b[38;5;250m \u001b[39m\u001b[38;5;28;01mNone\u001b[39;00m\n\u001b[32m    891\u001b[39m \u001b[38;5;28;01mreturn\u001b[39;00m array_split(ary, indices_or_sections, axis)\n",
      "\u001b[31mValueError\u001b[39m: array split does not result in an equal division"
     ]
    }
   ],
   "source": [
    "splitted_arr = np.split(arr,3)"
   ]
  },
  {
   "cell_type": "markdown",
   "id": "bd6e948b",
   "metadata": {},
   "source": [
    "### Arithmetic operator and mathematical function"
   ]
  },
  {
   "cell_type": "code",
   "execution_count": null,
   "id": "a5fc188e",
   "metadata": {},
   "outputs": [
    {
     "name": "stdout",
     "output_type": "stream",
     "text": [
      "[ 5  8 10 22]\n",
      "[-3 -2 -2  8]\n",
      "[  4  15  24 105]\n",
      "[0.25       0.6        0.66666667 2.14285714]\n",
      "[1 3 4 1]\n"
     ]
    }
   ],
   "source": [
    "x = np.array([1, 3,4,15])\n",
    "y = np.array([4,5,6,7])\n",
    "add = x + y\n",
    "print(add)\n",
    "\n",
    "sub = x - y\n",
    "print(sub)\n",
    "\n",
    "mul = x*y\n",
    "print(mul)\n",
    "\n",
    "div = x/y\n",
    "print(div)\n",
    "\n",
    "mod = x%y\n",
    "print(mod)"
   ]
  },
  {
   "cell_type": "code",
   "execution_count": null,
   "id": "af7888e7",
   "metadata": {},
   "outputs": [
    {
     "name": "stdout",
     "output_type": "stream",
     "text": [
      "[ 0.84147098  0.14112001 -0.7568025   0.65028784]\n",
      "[ 48.21273601   8.08558087 -43.36158891  37.25874871]\n"
     ]
    }
   ],
   "source": [
    "#trigonometry and values are in redian\n",
    "\n",
    "sin_val = np.sin(x)\n",
    "print(sin_val)\n",
    "# degree and rad conversion\n",
    "\n",
    "deg_val = np.rad2deg(sin_val)\n",
    "print(deg_val)"
   ]
  },
  {
   "cell_type": "code",
   "execution_count": null,
   "id": "dd7d4a7b",
   "metadata": {},
   "outputs": [
    {
     "name": "stdout",
     "output_type": "stream",
     "text": [
      "[0.         0.30103    0.47712125 0.60205999 0.69897    0.77815125\n",
      " 0.84509804 0.90308999 1.        ]\n"
     ]
    }
   ],
   "source": [
    "# log\n",
    "x = np.array([1,2,3,4,5,6,7,8,10])\n",
    "l = np.log10(x)\n",
    "print(l)\n"
   ]
  },
  {
   "cell_type": "code",
   "execution_count": null,
   "id": "fa2132af",
   "metadata": {},
   "outputs": [
    {
     "name": "stdout",
     "output_type": "stream",
     "text": [
      "[2.         4.         4.47213595 5.        ]\n"
     ]
    }
   ],
   "source": [
    "# squire root\n",
    "x = np.array([4,16,20,25])\n",
    "sqrt = np.sqrt(x)\n",
    "print(sqrt)"
   ]
  },
  {
   "cell_type": "code",
   "execution_count": null,
   "id": "cafcfd9f",
   "metadata": {},
   "outputs": [
    {
     "name": "stdout",
     "output_type": "stream",
     "text": [
      "65\n",
      "[ 4 20 40 65]\n"
     ]
    }
   ],
   "source": [
    "x = np.array([4,16,20,25])\n",
    "summation = np.sum(x)\n",
    "print(summation)\n",
    "c_sum = np.cumulative_sum(x)\n",
    "print(c_sum)"
   ]
  },
  {
   "cell_type": "code",
   "execution_count": null,
   "id": "7ed9bf5e",
   "metadata": {},
   "outputs": [
    {
     "name": "stdout",
     "output_type": "stream",
     "text": [
      "[ 16 256 400 625]\n"
     ]
    }
   ],
   "source": [
    "#broadcasting\n",
    "x = np.array([4,16,20,25])\n",
    "squire = x**2\n",
    "print(squire)"
   ]
  },
  {
   "cell_type": "code",
   "execution_count": null,
   "id": "e5784d9b",
   "metadata": {},
   "outputs": [
    {
     "name": "stdout",
     "output_type": "stream",
     "text": [
      "[[ 10  40  90]\n",
      " [ 40 100 180]]\n"
     ]
    }
   ],
   "source": [
    "# column size  = must be vector size\n",
    "\n",
    "matrix = np.array([\n",
    "    [10,20,30],\n",
    "    [40,50,60]\n",
    "])\n",
    "vector = np.array([1,2,3])\n",
    "\n",
    "result = matrix * vector\n",
    "print(result)"
   ]
  },
  {
   "cell_type": "code",
   "execution_count": null,
   "id": "4ac037f4",
   "metadata": {},
   "outputs": [
    {
     "name": "stdout",
     "output_type": "stream",
     "text": [
      "[False  True False]\n",
      "[False False False]\n"
     ]
    }
   ],
   "source": [
    "#comparison operator\n",
    "x = np.array([1,2,3])\n",
    "y = np.array([4,1,5])\n",
    "\n",
    "greater_than = x > y\n",
    "print(greater_than)\n",
    "\n",
    "equal = x==y\n",
    "print(equal)"
   ]
  },
  {
   "cell_type": "code",
   "execution_count": null,
   "id": "f87cc623",
   "metadata": {},
   "outputs": [
    {
     "name": "stdout",
     "output_type": "stream",
     "text": [
      "False\n",
      "True\n"
     ]
    }
   ],
   "source": [
    "# all() -> to check if all true\n",
    "#any() -> if any of them are true\n",
    "\n",
    "print(np.all(greater_than))\n",
    "print(np.any(greater_than))"
   ]
  },
  {
   "cell_type": "markdown",
   "id": "a754cd94",
   "metadata": {},
   "source": [
    "#### Sorting"
   ]
  },
  {
   "cell_type": "code",
   "execution_count": null,
   "id": "79ec68fe",
   "metadata": {},
   "outputs": [
    {
     "name": "stdout",
     "output_type": "stream",
     "text": [
      "[ 5  2  8  9 32 45  3  4  1]\n",
      "[ 1  2  3  4  5  8  9 32 45]\n"
     ]
    }
   ],
   "source": [
    "#inplace\n",
    "x = np.array([5,2,8,9,32,45,3,4,1])\n",
    "z = x.copy()\n",
    "print(z)\n",
    "z.sort()\n",
    "print(z)"
   ]
  },
  {
   "cell_type": "code",
   "execution_count": null,
   "id": "f9e2df2a",
   "metadata": {},
   "outputs": [
    {
     "name": "stdout",
     "output_type": "stream",
     "text": [
      "[ 5  2  8  9 32 45  3  4  1]\n",
      "[ 1  2  3  4  5  8  9 32 45]\n",
      "[ 5  2  8  9 32 45  3  4  1]\n"
     ]
    }
   ],
   "source": [
    "# copy sorting\n",
    "print(x)\n",
    "sort_arr = np.sort(x)\n",
    "print(sort_arr)\n",
    "print(x)\n"
   ]
  },
  {
   "cell_type": "code",
   "execution_count": null,
   "id": "c5008109",
   "metadata": {},
   "outputs": [
    {
     "name": "stdout",
     "output_type": "stream",
     "text": [
      "[[ 30 100 230]\n",
      " [ 40  60 550]]\n",
      "[[ 40 230  30]\n",
      " [100 550  60]]\n"
     ]
    }
   ],
   "source": [
    "matrix = np.array([\n",
    "    [100,230,30],\n",
    "    [40,550,60]\n",
    "])\n",
    "\n",
    "#row wise sorting axis = 1\n",
    "row_sort = np.sort(matrix,axis=1)\n",
    "print(row_sort)\n",
    "#column wise sort axis = 0\n",
    "col_sort = np.sort(matrix, axis=0)\n",
    "print(col_sort)"
   ]
  },
  {
   "cell_type": "markdown",
   "id": "95fd232c",
   "metadata": {},
   "source": [
    "#### Searching"
   ]
  },
  {
   "cell_type": "code",
   "execution_count": null,
   "id": "519f4abd",
   "metadata": {},
   "outputs": [
    {
     "name": "stdout",
     "output_type": "stream",
     "text": [
      "(array([3]),)\n",
      "[100 100 100 100  32  45 100 100 100]\n"
     ]
    }
   ],
   "source": [
    "x = np.array([5,2,8,9,32,45,3,4,1])\n",
    "index = np.where(x == 9)\n",
    "print(index)\n",
    "#np.where(condition, x, y) if true x, otherwise replace with y\n",
    "index = np.where(x>9,x,100)\n",
    "print(index)"
   ]
  },
  {
   "cell_type": "code",
   "execution_count": 68,
   "id": "d41287c8",
   "metadata": {},
   "outputs": [
    {
     "name": "stdout",
     "output_type": "stream",
     "text": [
      "(array([1, 1, 1]), array([0, 1, 2]))\n",
      "5\n",
      "1 2\n",
      "[2 2]\n",
      "[1 1 1]\n"
     ]
    }
   ],
   "source": [
    "matrix = np.array([\n",
    "    [10,20,30],\n",
    "    [40,50,60]\n",
    "])\n",
    "\n",
    "index = np.where(matrix>30)\n",
    "print(index)\n",
    "# amx value index for 1D array\n",
    "maximun_value_indx = np.argmax(matrix)\n",
    "print(maximun_value_indx) \n",
    "\n",
    "#max value index for 2D using unreavel_index needs 2 arguments index and shape\n",
    "arr = np.array([\n",
    "    [10,20,30],\n",
    "    [40,50,60]\n",
    "])\n",
    "row, col = np.unravel_index(np.argmax(arr), arr.shape)\n",
    "print(row, col)\n",
    "row_max_indices = np.argmax(arr, axis=1)\n",
    "print(row_max_indices)\n",
    "col_max_indices = np.argmax(arr, axis=0)\n",
    "print(col_max_indices)"
   ]
  },
  {
   "cell_type": "markdown",
   "id": "3c52726c",
   "metadata": {},
   "source": [
    "#### Counting"
   ]
  },
  {
   "cell_type": "code",
   "execution_count": 80,
   "id": "2ea0999c",
   "metadata": {},
   "outputs": [
    {
     "name": "stdout",
     "output_type": "stream",
     "text": [
      "[8 5 8 8 2 8 3 5 6 9 7 4 4 5 6 7 4 1 1 1 3 9 6 4 9 3 9 5 7 7 4 2 5 3 1 7 2\n",
      " 2 9 3 4 1 3 9 9 3 7 9 4 8 1 9 1 9 5 5 4 1 1 3 4 8 8 3 7 6 4 3 2 7 7 3 4 3\n",
      " 9 7 3 3 5 5 5 2 5 9 9 7 2 8 7 6 7 9 5 2 4 1 2 7 9 6]\n",
      "37\n",
      "[1 2 3 4 5 6 7 8 9]\n",
      "[10  9 14 12 12  6 14  8 15]\n"
     ]
    }
   ],
   "source": [
    "arr = np.random.randint(1,10,size=(100))\n",
    "print(arr)\n",
    "\n",
    "count = np.count_nonzero(arr>6)\n",
    "print(count)\n",
    "\n",
    "unique_values,count = np.unique(arr,return_counts=True)\n",
    "print(unique_values)\n",
    "print(count)"
   ]
  },
  {
   "cell_type": "markdown",
   "id": "4ce780dc",
   "metadata": {},
   "source": [
    "#### Statistical Methods"
   ]
  },
  {
   "cell_type": "code",
   "execution_count": 82,
   "id": "cbf14bc7",
   "metadata": {},
   "outputs": [
    {
     "name": "stdout",
     "output_type": "stream",
     "text": [
      "[[78. 85. 82.]\n",
      " [56. 67. 72.]\n",
      " [89. 92. 88.]\n",
      " [45. 52. 58.]\n",
      " [70. 75. 80.]\n",
      " [92. 90. 91.]\n",
      " [61. 60. 62.]\n",
      " [55. 57. 54.]\n",
      " [88. 89. 87.]\n",
      " [74. 70. 76.]\n",
      " [66. 69. 68.]\n",
      " [80. 82. 81.]\n",
      " [59. 64. 60.]\n",
      " [73. 78. 74.]\n",
      " [91. 93. 90.]\n",
      " [68. 71. 69.]\n",
      " [77. 79. 78.]\n",
      " [84. 86. 85.]\n",
      " [62. 63. 65.]\n",
      " [95. 97. 96.]]\n"
     ]
    }
   ],
   "source": [
    "#data loading\n",
    "data = np.genfromtxt(r\"data/student_scores.csv\",delimiter=',', skip_header=1)\n",
    "print(data)"
   ]
  },
  {
   "cell_type": "code",
   "execution_count": null,
   "id": "c23d64b0",
   "metadata": {},
   "outputs": [
    {
     "name": "stdout",
     "output_type": "stream",
     "text": [
      "95.0\n",
      "97.0\n",
      "[[82. 72. 88. 58. 80. 91. 62. 54. 87. 76. 68. 81. 60. 74. 90. 69. 78. 85.\n",
      "  65. 96.]]\n",
      "96.0\n",
      "75.8\n",
      "77.0\n"
     ]
    }
   ],
   "source": [
    "# find the max marks for the math which is first colum \n",
    "math_max = np.max(data[:,0])\n",
    "print(math_max)\n",
    "\n",
    "science_max = np.max(data[:,1])\n",
    "print(science_max)\n",
    "\n",
    "eng_marks = data[::,2:]\n",
    "print(eng_marks.T)\n",
    "max_eng_mark = np.max(eng_marks)\n",
    "print(max_eng_mark)\n",
    "\n",
    "average_eng_mark = np.mean(eng_marks)\n",
    "print(average_eng_mark)\n",
    "\n",
    "\n",
    "# Median is the middle value in a sorted list of numbers.\n",
    "# If the number of elements is odd, the median is the middle number.\n",
    "# If it’s even, the median is the average of the two middle numbers.\n",
    "\n",
    "median_eng_mark = np.median(eng_marks)\n",
    "print(median_eng_mark) "
   ]
  },
  {
   "cell_type": "code",
   "execution_count": 92,
   "id": "19cb0dd8",
   "metadata": {},
   "outputs": [
    {
     "name": "stdout",
     "output_type": "stream",
     "text": [
      "[[82. 72. 88. 58. 80. 91. 62. 54. 87. 76. 68. 81. 60. 74. 90. 69. 78. 85.\n",
      "  65. 96.]]\n",
      "11.749893616539683\n"
     ]
    }
   ],
   "source": [
    "# Standard Deviation\n",
    "# Standard deviation (SD) measures how spread out the numbers are from the mean (average)\n",
    "# Low SD → values are close to the mean\n",
    "# High SD → values are far from the mean\n",
    "\n",
    "eng_marks = data[::,2:]\n",
    "print(eng_marks.T)\n",
    "\n",
    "std_eng_marks = np.std(eng_marks)\n",
    "print(std_eng_marks)"
   ]
  },
  {
   "cell_type": "code",
   "execution_count": null,
   "id": "ef835e02",
   "metadata": {},
   "outputs": [
    {
     "name": "stdout",
     "output_type": "stream",
     "text": [
      "[[ 2  3  4  5  6]\n",
      " [70 80 85 90 95]]\n",
      "[[1.         0.98639392]\n",
      " [0.98639392 1.        ]]\n"
     ]
    }
   ],
   "source": [
    "# correlation coefficient\n",
    "study_hour = np.array([2,3,4,5,6])\n",
    "exam_score = np.array([70,80,85,90,95])\n",
    "\n",
    "data = np.array([study_hour,exam_score])\n",
    "print(data)\n",
    "\n",
    "cor = np.corrcoef(data)\n",
    "print(cor)\n",
    "# numbers are positive and close to 1 , means strong positive correlation"
   ]
  },
  {
   "cell_type": "markdown",
   "id": "66526a41",
   "metadata": {},
   "source": [
    "#### Linear Aljebra"
   ]
  },
  {
   "cell_type": "code",
   "execution_count": 102,
   "id": "573a3a26",
   "metadata": {},
   "outputs": [
    {
     "name": "stdout",
     "output_type": "stream",
     "text": [
      "[[ 10  22  36]\n",
      " [ 52  70  90]\n",
      " [112 136 162]]\n",
      "[[ 84  90  96]\n",
      " [201 216 231]\n",
      " [318 342 366]]\n",
      "666\n",
      "0.0\n",
      "2\n"
     ]
    }
   ],
   "source": [
    "matrix_a = np.array([\n",
    "    [1,2,3],\n",
    "    [4,5,6],\n",
    "    [7,8,9]\n",
    "])\n",
    "matrix_b = np.array([\n",
    "    [10,11,12],\n",
    "    [13,14,15],\n",
    "    [16,17,18]\n",
    "])\n",
    "#just element to element multiplication\n",
    "mul = matrix_a * matrix_b\n",
    "print(mul)\n",
    "\n",
    "# real life matrix multiplication\n",
    "dot_product = np.dot(matrix_a,matrix_b)\n",
    "print(dot_product)\n",
    "#trace\n",
    "print(np.trace(dot_product)) # 84 + 216 + 366 = 666\n",
    "#determinant\n",
    "print(np.linalg.det(matrix_b))\n",
    "\n",
    "#rank \n",
    "print(np.linalg.matrix_rank(matrix_b))\n"
   ]
  },
  {
   "cell_type": "code",
   "execution_count": null,
   "id": "5f6215b1",
   "metadata": {},
   "outputs": [],
   "source": []
  }
 ],
 "metadata": {
  "kernelspec": {
   "display_name": "anaconda-ml-ai",
   "language": "python",
   "name": "python3"
  },
  "language_info": {
   "codemirror_mode": {
    "name": "ipython",
    "version": 3
   },
   "file_extension": ".py",
   "mimetype": "text/x-python",
   "name": "python",
   "nbconvert_exporter": "python",
   "pygments_lexer": "ipython3",
   "version": "3.11.13"
  }
 },
 "nbformat": 4,
 "nbformat_minor": 5
}
