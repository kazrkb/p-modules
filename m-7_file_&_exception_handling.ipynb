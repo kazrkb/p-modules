{
 "cells": [
  {
   "cell_type": "markdown",
   "id": "1de5902d",
   "metadata": {},
   "source": [
    "#### File Read"
   ]
  },
  {
   "cell_type": "code",
   "execution_count": 8,
   "id": "65e95d0d",
   "metadata": {},
   "outputs": [
    {
     "name": "stdout",
     "output_type": "stream",
     "text": [
      "['Hello Everyone, I am Kazi Md Rakibul Hassan.', 'I am student of Independent University Bangladesh.']\n",
      "False\n",
      "True\n"
     ]
    }
   ],
   "source": [
    "file = open(r\"data/sample.txt\")\n",
    "content = file.readlines()\n",
    "content = list(map(str.strip, content))\n",
    "filter_content = list(filter(lambda x: len(x)>=1, content))\n",
    "print(filter_content)\n",
    "print(file.closed)\n",
    "file.close()\n",
    "print(file.closed)"
   ]
  },
  {
   "cell_type": "code",
   "execution_count": 15,
   "id": "616d0deb",
   "metadata": {},
   "outputs": [
    {
     "name": "stdout",
     "output_type": "stream",
     "text": [
      "['Hello Everyone, I am Kazi Md Rakibul Hassan.\\n', 'I am student of Independent University Bangladesh.']\n",
      "True\n"
     ]
    }
   ],
   "source": [
    "with open(r\"data/sample.txt\") as file:\n",
    "    content = file.readlines()\n",
    "    print(content)\n",
    "    \n",
    "print(file.closed)"
   ]
  },
  {
   "cell_type": "code",
   "execution_count": 17,
   "id": "2fe4af91",
   "metadata": {},
   "outputs": [
    {
     "name": "stdout",
     "output_type": "stream",
     "text": [
      "Hello Everyone, I am Kazi Md Rakibul Hassan.\n",
      "I am student of Independent University Bangladesh."
     ]
    }
   ],
   "source": [
    "with open(r\"data/sample.txt\") as file:\n",
    "    for line in file:\n",
    "        print(line,end=\"\")"
   ]
  },
  {
   "cell_type": "code",
   "execution_count": 19,
   "id": "ca914e58",
   "metadata": {},
   "outputs": [
    {
     "name": "stdout",
     "output_type": "stream",
     "text": [
      "Hello Everyone, I am Kazi Md Rakibul Hassan.\n",
      "I am student of Independent University Bangladesh.\n"
     ]
    }
   ],
   "source": [
    "with open(r\"data/sample.txt\") as file:\n",
    "    for line in file:\n",
    "        l = line.strip()\n",
    "        print(l)"
   ]
  },
  {
   "cell_type": "markdown",
   "id": "e186b382",
   "metadata": {},
   "source": [
    "#### File Write"
   ]
  },
  {
   "cell_type": "code",
   "execution_count": null,
   "id": "930c18bd",
   "metadata": {},
   "outputs": [],
   "source": [
    "# creating a new file and write there\n",
    "with open(r\"data/writesample.txt\",\"w\") as file:\n",
    "    file.write(\"Hello this a write test file \\n\")\n",
    "    file.write(\"This is the second line of the write file\")"
   ]
  },
  {
   "cell_type": "code",
   "execution_count": 5,
   "id": "a1fec92a",
   "metadata": {},
   "outputs": [],
   "source": [
    "#writing in a existing file which actually overwrite the file\n",
    "with open(r\"data/writesample.txt\",\"w\") as file:\n",
    "    file.write(\"Overwriting the the existing test file \\n\")\n",
    "    file.write(\"This is the second line of the write file \\n\")"
   ]
  },
  {
   "cell_type": "code",
   "execution_count": 6,
   "id": "c7aaa84f",
   "metadata": {},
   "outputs": [],
   "source": [
    "# no over writing just appending\n",
    "with open(r\"data/writesample.txt\",\"a\") as file:\n",
    "    file.write(\"Appending text to the current text file \\n\")\n",
    "    file.write(\"This is the second line of the write file\")"
   ]
  },
  {
   "cell_type": "markdown",
   "id": "9d8281e1",
   "metadata": {},
   "source": [
    "#### File pointer"
   ]
  },
  {
   "cell_type": "code",
   "execution_count": 11,
   "id": "dee7a933",
   "metadata": {},
   "outputs": [
    {
     "name": "stdout",
     "output_type": "stream",
     "text": [
      "0\n",
      "Hello Everyone, I am Kazi Md Rakibul Hassan.\n",
      "I am student of Independent University Bangladesh.\n",
      "96\n",
      "\n"
     ]
    }
   ],
   "source": [
    "with open(r\"data/sample.txt\",\"r\") as file:\n",
    "    print(file.tell())\n",
    "    print(file.read())\n",
    "    print(file.tell())\n",
    "    # now index is in the last so if i read nothing will be printed\n",
    "    print(file.read())"
   ]
  },
  {
   "cell_type": "code",
   "execution_count": 15,
   "id": "dde6a3f0",
   "metadata": {},
   "outputs": [
    {
     "name": "stdout",
     "output_type": "stream",
     "text": [
      "0\n",
      "Hello\n",
      "5\n",
      " Everyone, I am Kazi\n"
     ]
    }
   ],
   "source": [
    "with open(r\"data/sample.txt\",\"r\") as file:\n",
    "    print(file.tell())\n",
    "    print(file.read(5))\n",
    "    print(file.tell())\n",
    "    print(file.read(20))"
   ]
  },
  {
   "cell_type": "code",
   "execution_count": 17,
   "id": "465df0d3",
   "metadata": {},
   "outputs": [
    {
     "name": "stdout",
     "output_type": "stream",
     "text": [
      "5\n",
      " Everyone,\n"
     ]
    }
   ],
   "source": [
    "with open(r\"data/sample.txt\",\"r\") as file:\n",
    "    file.seek(5)\n",
    "    print(file.tell())\n",
    "    print(file.read(10))"
   ]
  },
  {
   "cell_type": "code",
   "execution_count": null,
   "id": "db9f0593",
   "metadata": {},
   "outputs": [],
   "source": []
  }
 ],
 "metadata": {
  "kernelspec": {
   "display_name": "anaconda-ml-ai",
   "language": "python",
   "name": "python3"
  },
  "language_info": {
   "codemirror_mode": {
    "name": "ipython",
    "version": 3
   },
   "file_extension": ".py",
   "mimetype": "text/x-python",
   "name": "python",
   "nbconvert_exporter": "python",
   "pygments_lexer": "ipython3",
   "version": "3.11.13"
  }
 },
 "nbformat": 4,
 "nbformat_minor": 5
}
