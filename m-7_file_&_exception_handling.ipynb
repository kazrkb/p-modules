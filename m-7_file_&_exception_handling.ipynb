{
 "cells": [
  {
   "cell_type": "markdown",
   "id": "1de5902d",
   "metadata": {},
   "source": [
    "#### File Read"
   ]
  },
  {
   "cell_type": "code",
   "execution_count": 24,
   "id": "65e95d0d",
   "metadata": {},
   "outputs": [
    {
     "name": "stdout",
     "output_type": "stream",
     "text": [
      "['Hello Everyone, I am Kazi Md Rakibul Hassan.', 'I am student of Independent University Bangladesh.', 'Tell me something.', 'What do you like most?', 'Where do you live?']\n",
      "False\n",
      "True\n"
     ]
    }
   ],
   "source": [
    "file = open(r\"data/sample.txt\")\n",
    "content = file.readlines()\n",
    "content = list(map(str.strip, content))\n",
    "filter_content = list(filter(lambda x: len(x)>=1, content))\n",
    "print(filter_content)\n",
    "print(file.closed)\n",
    "file.close()\n",
    "print(file.closed)"
   ]
  },
  {
   "cell_type": "code",
   "execution_count": 25,
   "id": "616d0deb",
   "metadata": {},
   "outputs": [
    {
     "name": "stdout",
     "output_type": "stream",
     "text": [
      "['Hello Everyone, I am Kazi Md Rakibul Hassan.\\n', 'I am student of Independent University Bangladesh.\\n', 'Tell me something.\\n', 'What do you like most?\\n', 'Where do you live?']\n",
      "True\n"
     ]
    }
   ],
   "source": [
    "with open(r\"data/sample.txt\") as file:\n",
    "    content = file.readlines()\n",
    "    print(content)\n",
    "    \n",
    "print(file.closed)"
   ]
  },
  {
   "cell_type": "code",
   "execution_count": 26,
   "id": "2fe4af91",
   "metadata": {},
   "outputs": [
    {
     "name": "stdout",
     "output_type": "stream",
     "text": [
      "Hello Everyone, I am Kazi Md Rakibul Hassan.\n",
      "I am student of Independent University Bangladesh.\n",
      "Tell me something.\n",
      "What do you like most?\n",
      "Where do you live?"
     ]
    }
   ],
   "source": [
    "with open(r\"data/sample.txt\") as file:\n",
    "    for line in file:\n",
    "        print(line,end=\"\")"
   ]
  },
  {
   "cell_type": "code",
   "execution_count": 27,
   "id": "ca914e58",
   "metadata": {},
   "outputs": [
    {
     "name": "stdout",
     "output_type": "stream",
     "text": [
      "Hello Everyone, I am Kazi Md Rakibul Hassan.\n",
      "I am student of Independent University Bangladesh.\n",
      "Tell me something.\n",
      "What do you like most?\n",
      "Where do you live?\n"
     ]
    }
   ],
   "source": [
    "with open(r\"data/sample.txt\") as file:\n",
    "    for line in file:\n",
    "        l = line.strip()\n",
    "        print(l)"
   ]
  },
  {
   "cell_type": "markdown",
   "id": "e186b382",
   "metadata": {},
   "source": [
    "#### File Write"
   ]
  },
  {
   "cell_type": "code",
   "execution_count": 28,
   "id": "930c18bd",
   "metadata": {},
   "outputs": [],
   "source": [
    "# creating a new file and write there\n",
    "with open(r\"data/writesample.txt\",\"w\") as file:\n",
    "    file.write(\"Hello this a write test file \\n\")\n",
    "    file.write(\"This is the second line of the write file\")"
   ]
  },
  {
   "cell_type": "code",
   "execution_count": 29,
   "id": "a1fec92a",
   "metadata": {},
   "outputs": [],
   "source": [
    "#writing in a existing file which actually overwrite the file\n",
    "with open(r\"data/writesample.txt\",\"w\") as file:\n",
    "    file.write(\"Overwriting the the existing test file \\n\")\n",
    "    file.write(\"This is the second line of the write file \\n\")"
   ]
  },
  {
   "cell_type": "code",
   "execution_count": 30,
   "id": "c7aaa84f",
   "metadata": {},
   "outputs": [],
   "source": [
    "# no over writing just appending\n",
    "with open(r\"data/writesample.txt\",\"a\") as file:\n",
    "    file.write(\"Appending text to the current text file \\n\")\n",
    "    file.write(\"This is the second line of the write file\")"
   ]
  },
  {
   "cell_type": "markdown",
   "id": "9d8281e1",
   "metadata": {},
   "source": [
    "#### File pointer"
   ]
  },
  {
   "cell_type": "code",
   "execution_count": 31,
   "id": "dee7a933",
   "metadata": {},
   "outputs": [
    {
     "name": "stdout",
     "output_type": "stream",
     "text": [
      "0\n",
      "Hello Everyone, I am Kazi Md Rakibul Hassan.\n",
      "I am student of Independent University Bangladesh.\n",
      "Tell me something.\n",
      "What do you like most?\n",
      "Where do you live?\n",
      "160\n",
      "\n"
     ]
    }
   ],
   "source": [
    "with open(r\"data/sample.txt\",\"r\") as file:\n",
    "    print(file.tell())\n",
    "    print(file.read())\n",
    "    print(file.tell())\n",
    "    # now index is in the last so if i read nothing will be printed\n",
    "    print(file.read())"
   ]
  },
  {
   "cell_type": "code",
   "execution_count": 32,
   "id": "dde6a3f0",
   "metadata": {},
   "outputs": [
    {
     "name": "stdout",
     "output_type": "stream",
     "text": [
      "0\n",
      "Hello\n",
      "5\n",
      " Everyone, I am Kazi\n"
     ]
    }
   ],
   "source": [
    "with open(r\"data/sample.txt\",\"r\") as file:\n",
    "    print(file.tell())\n",
    "    print(file.read(5))\n",
    "    print(file.tell())\n",
    "    print(file.read(20))"
   ]
  },
  {
   "cell_type": "code",
   "execution_count": 33,
   "id": "465df0d3",
   "metadata": {},
   "outputs": [
    {
     "name": "stdout",
     "output_type": "stream",
     "text": [
      "5\n",
      " Everyone,\n"
     ]
    }
   ],
   "source": [
    "with open(r\"data/sample.txt\",\"r\") as file:\n",
    "    file.seek(5)\n",
    "    print(file.tell())\n",
    "    print(file.read(10))"
   ]
  },
  {
   "cell_type": "markdown",
   "id": "0ba06d4c",
   "metadata": {},
   "source": [
    "### Practice Problems"
   ]
  },
  {
   "cell_type": "markdown",
   "id": "57b172b6",
   "metadata": {},
   "source": [
    "##### Get the text form the sample.txt file, and count the following\n",
    "##### Number of lines\\n, Number of words\\n, Number of Char \\n, Save all in a new txt file"
   ]
  },
  {
   "cell_type": "code",
   "execution_count": 34,
   "id": "db9f0593",
   "metadata": {},
   "outputs": [
    {
     "name": "stdout",
     "output_type": "stream",
     "text": [
      "['Hello Everyone, I am Kazi Md Rakibul Hassan.\\n', 'I am student of Independent University Bangladesh.\\n', 'Tell me something.\\n', 'What do you like most?\\n', 'Where do you live?']\n",
      "[8, 7, 3, 5, 4]\n",
      "27\n",
      "['Hello Everyone, I am Kazi Md Rakibul Hassan.', 'I am student of Independent University Bangladesh.', 'Tell me something.', 'What do you like most?', 'Where do you live?']\n",
      "['Hello', 'Everyone,', 'I', 'am', 'Kazi', 'Md', 'Rakibul', 'Hassan.', 'I', 'am', 'student', 'of', 'Independent', 'University', 'Bangladesh.', 'Tell', 'me', 'something.', 'What', 'do', 'you', 'like', 'most?', 'Where', 'do', 'you', 'live?']\n",
      "number of words in the text file is : 27\n",
      "[5, 9, 1, 2, 4, 2, 7, 7, 1, 2, 7, 2, 11, 10, 11, 4, 2, 10, 4, 2, 3, 4, 5, 5, 2, 3, 5]\n",
      "130\n"
     ]
    }
   ],
   "source": [
    "from functools import reduce\n",
    "with open(r\"data/sample.txt\", \"r\") as file:\n",
    "    strings = file.readlines()\n",
    "    print(strings)\n",
    "    #finding number of lines\n",
    "    total_lines = len(strings)\n",
    "    #finding number of words\n",
    "    number_of_words = list(map(lambda x: len(x.split()),strings))\n",
    "    print(number_of_words)\n",
    "    total_number_of_words = reduce(lambda x,y: x+y, number_of_words)\n",
    "    print(total_number_of_words)\n",
    "    \n",
    "    # cleaning the \\n\n",
    "    strings = list(map(str.strip,strings))\n",
    "    print(strings)\n",
    "    words = [word for sentence in strings for word in sentence.strip().split()]\n",
    "    print(words)\n",
    "    print(f\"number of words in the text file is : {len(words)}\")\n",
    "    \n",
    "    no_of_char = list(map(lambda x: len(x),words))\n",
    "    print(no_of_char)\n",
    "    \n",
    "    total_number_of_char = reduce(lambda x,y : x+y, no_of_char)\n",
    "    print(total_number_of_char)\n",
    "\n",
    "with open(r\"data\\counter_of_string.txt\", \"w\") as file:\n",
    "    file.write(f\"total line : {total_lines}\\ntotal number of words : {total_number_of_words}\\ntotal number of character : {total_number_of_char}\")"
   ]
  },
  {
   "cell_type": "code",
   "execution_count": null,
   "id": "3bfd5fe1",
   "metadata": {},
   "outputs": [],
   "source": []
  }
 ],
 "metadata": {
  "kernelspec": {
   "display_name": "anaconda-ml-ai",
   "language": "python",
   "name": "python3"
  },
  "language_info": {
   "codemirror_mode": {
    "name": "ipython",
    "version": 3
   },
   "file_extension": ".py",
   "mimetype": "text/x-python",
   "name": "python",
   "nbconvert_exporter": "python",
   "pygments_lexer": "ipython3",
   "version": "3.11.13"
  }
 },
 "nbformat": 4,
 "nbformat_minor": 5
}
