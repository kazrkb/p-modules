{
 "cells": [
  {
   "cell_type": "markdown",
   "id": "1de5902d",
   "metadata": {},
   "source": [
    "#### File Read"
   ]
  },
  {
   "cell_type": "code",
   "execution_count": 14,
   "id": "65e95d0d",
   "metadata": {},
   "outputs": [
    {
     "name": "stdout",
     "output_type": "stream",
     "text": [
      "['Hello Everyone, I am Kazi Md Rakibul Hassan.\\n', 'I am student of Independent University Bangladesh.']\n",
      "False\n",
      "True\n"
     ]
    }
   ],
   "source": [
    "file = open(r\"data/sample.txt\")\n",
    "content = file.readlines()\n",
    "print(content)\n",
    "print(file.closed)\n",
    "file.close()\n",
    "print(file.closed)"
   ]
  },
  {
   "cell_type": "code",
   "execution_count": 15,
   "id": "616d0deb",
   "metadata": {},
   "outputs": [
    {
     "name": "stdout",
     "output_type": "stream",
     "text": [
      "['Hello Everyone, I am Kazi Md Rakibul Hassan.\\n', 'I am student of Independent University Bangladesh.']\n",
      "True\n"
     ]
    }
   ],
   "source": [
    "with open(r\"data/sample.txt\") as file:\n",
    "    content = file.readlines()\n",
    "    print(content)\n",
    "    \n",
    "print(file.closed)"
   ]
  },
  {
   "cell_type": "code",
   "execution_count": 17,
   "id": "2fe4af91",
   "metadata": {},
   "outputs": [
    {
     "name": "stdout",
     "output_type": "stream",
     "text": [
      "Hello Everyone, I am Kazi Md Rakibul Hassan.\n",
      "I am student of Independent University Bangladesh."
     ]
    }
   ],
   "source": [
    "with open(r\"data/sample.txt\") as file:\n",
    "    for line in file:\n",
    "        print(line,end=\"\")"
   ]
  },
  {
   "cell_type": "code",
   "execution_count": 19,
   "id": "ca914e58",
   "metadata": {},
   "outputs": [
    {
     "name": "stdout",
     "output_type": "stream",
     "text": [
      "Hello Everyone, I am Kazi Md Rakibul Hassan.\n",
      "I am student of Independent University Bangladesh.\n"
     ]
    }
   ],
   "source": [
    "with open(r\"data/sample.txt\") as file:\n",
    "    for line in file:\n",
    "        l = line.strip()\n",
    "        print(l)"
   ]
  },
  {
   "cell_type": "markdown",
   "id": "e186b382",
   "metadata": {},
   "source": [
    "#### File Write"
   ]
  },
  {
   "cell_type": "code",
   "execution_count": null,
   "id": "930c18bd",
   "metadata": {},
   "outputs": [],
   "source": []
  }
 ],
 "metadata": {
  "kernelspec": {
   "display_name": "anaconda-ml-ai",
   "language": "python",
   "name": "python3"
  },
  "language_info": {
   "codemirror_mode": {
    "name": "ipython",
    "version": 3
   },
   "file_extension": ".py",
   "mimetype": "text/x-python",
   "name": "python",
   "nbconvert_exporter": "python",
   "pygments_lexer": "ipython3",
   "version": "3.11.13"
  }
 },
 "nbformat": 4,
 "nbformat_minor": 5
}
