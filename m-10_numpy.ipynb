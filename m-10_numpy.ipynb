{
 "cells": [
  {
   "cell_type": "code",
   "execution_count": 14,
   "id": "e0fb4e11",
   "metadata": {},
   "outputs": [
    {
     "name": "stdout",
     "output_type": "stream",
     "text": [
      "[1, 2, 3, 1, 2, 3, 1, 2, 3, 1, 2, 3, 1, 2, 3]\n",
      "[5, 10, 15]\n"
     ]
    }
   ],
   "source": [
    "arr = [1,2,3]\n",
    "print(arr*5)\n",
    "\n",
    "arr = [x*5 for x in arr]\n",
    "print(arr)"
   ]
  },
  {
   "cell_type": "code",
   "execution_count": 15,
   "id": "5d5278f7",
   "metadata": {},
   "outputs": [
    {
     "name": "stdout",
     "output_type": "stream",
     "text": [
      "[ 5 10 15]\n"
     ]
    }
   ],
   "source": [
    "import numpy as np\n",
    "arr1 = np.array([1,2,3])\n",
    "\n",
    "arr1 = arr1*5\n",
    "print(arr1)"
   ]
  },
  {
   "cell_type": "code",
   "execution_count": 16,
   "id": "1e5b9b6e",
   "metadata": {},
   "outputs": [
    {
     "name": "stdout",
     "output_type": "stream",
     "text": [
      "<class 'numpy.ndarray'>\n",
      "Dimension: 1\n",
      "Shape: (4,)\n",
      "Size: 4\n",
      "---------------------------------------\n",
      "[[1 2 3]\n",
      " [5 6 7]]\n",
      "Dimension: 2\n",
      "Shape: (2, 3)\n",
      "Size: 6\n",
      "---------------------------------------\n",
      "[[[ 1  2  3]\n",
      "  [ 4  5  6]\n",
      "  [ 7  8  9]]\n",
      "\n",
      " [[10 11 12]\n",
      "  [13 14 15]\n",
      "  [16 17 18]]\n",
      "\n",
      " [[19 20 21]\n",
      "  [22 23 24]\n",
      "  [25 26 27]]]\n",
      "Dimension: 3\n",
      "Shape: (3, 3, 3)\n",
      "Size: 27\n"
     ]
    }
   ],
   "source": [
    "arr1 = np.array([20,34,56,72])\n",
    "print(type(arr1))\n",
    "print(\"Dimension:\",arr1.ndim)\n",
    "print(\"Shape:\",arr1.shape)\n",
    "print(\"Size:\",arr1.size)\n",
    "print(\"---------------------------------------\")\n",
    "#2D array\n",
    "arr2 = np.array(\n",
    "    [\n",
    "        [1,2,3],\n",
    "        [5,6,7]\n",
    "    ]\n",
    ")\n",
    "\n",
    "print(arr2)\n",
    "print(\"Dimension:\",arr2.ndim)\n",
    "print(\"Shape:\",arr2.shape)\n",
    "print(\"Size:\",arr2.size)\n",
    "print(\"---------------------------------------\")\n",
    "#3D array\n",
    "arr3 = np.array([\n",
    "    # First 2D array\n",
    "    [\n",
    "        # First row\n",
    "        [1,2,3],\n",
    "        # Second row\n",
    "        [4,5,6],\n",
    "        # Third row\n",
    "        [7,8,9]\n",
    "    ],\n",
    "    [\n",
    "        [10,11,12],\n",
    "        [13,14,15],\n",
    "        [16,17,18]\n",
    "    ],\n",
    "    [\n",
    "        [19,20,21],\n",
    "        [22,23,24],\n",
    "        [25,26,27]\n",
    "    ]\n",
    "])\n",
    "\n",
    "print(arr3)\n",
    "print(\"Dimension:\",arr3.ndim)\n",
    "print(\"Shape:\",arr3.shape)\n",
    "print(\"Size:\",arr3.size)"
   ]
  },
  {
   "cell_type": "code",
   "execution_count": 17,
   "id": "a6427bb9",
   "metadata": {},
   "outputs": [
    {
     "name": "stdout",
     "output_type": "stream",
     "text": [
      "<U32\n"
     ]
    }
   ],
   "source": [
    "arr = np.array([1,2,3.45,'6'])\n",
    "print(arr.dtype)"
   ]
  },
  {
   "cell_type": "code",
   "execution_count": 18,
   "id": "b2a5ab0e",
   "metadata": {},
   "outputs": [
    {
     "ename": "OverflowError",
     "evalue": "Python integer 400 out of bounds for int8",
     "output_type": "error",
     "traceback": [
      "\u001b[31m---------------------------------------------------------------------------\u001b[39m",
      "\u001b[31mOverflowError\u001b[39m                             Traceback (most recent call last)",
      "\u001b[36mCell\u001b[39m\u001b[36m \u001b[39m\u001b[32mIn[18]\u001b[39m\u001b[32m, line 1\u001b[39m\n\u001b[32m----> \u001b[39m\u001b[32m1\u001b[39m arr = \u001b[43mnp\u001b[49m\u001b[43m.\u001b[49m\u001b[43marray\u001b[49m\u001b[43m(\u001b[49m\u001b[43m[\u001b[49m\u001b[32;43m1\u001b[39;49m\u001b[43m,\u001b[49m\u001b[32;43m2\u001b[39;49m\u001b[43m,\u001b[49m\u001b[32;43m3\u001b[39;49m\u001b[43m,\u001b[49m\u001b[32;43m400\u001b[39;49m\u001b[43m]\u001b[49m\u001b[43m,\u001b[49m\u001b[43mdtype\u001b[49m\u001b[43m=\u001b[49m\u001b[43mnp\u001b[49m\u001b[43m.\u001b[49m\u001b[43mint8\u001b[49m\u001b[43m)\u001b[49m\n\u001b[32m      2\u001b[39m \u001b[38;5;28mprint\u001b[39m(arr.dtype)\n",
      "\u001b[31mOverflowError\u001b[39m: Python integer 400 out of bounds for int8"
     ]
    }
   ],
   "source": [
    "arr = np.array([1,2,3,400],dtype=np.int8)\n",
    "print(arr.dtype)"
   ]
  },
  {
   "cell_type": "code",
   "execution_count": null,
   "id": "22c9c1a3",
   "metadata": {},
   "outputs": [
    {
     "name": "stdout",
     "output_type": "stream",
     "text": [
      "int16\n"
     ]
    }
   ],
   "source": [
    "arr = np.array([1,2,3,400],dtype=np.int16)\n",
    "print(arr.dtype)"
   ]
  },
  {
   "cell_type": "code",
   "execution_count": null,
   "id": "981b68f6",
   "metadata": {},
   "outputs": [
    {
     "name": "stdout",
     "output_type": "stream",
     "text": [
      "int64\n",
      "int16\n"
     ]
    }
   ],
   "source": [
    "arr = np.array([1,2,3,400])\n",
    "print(arr.dtype)\n",
    "arr = arr.astype(np.int16)\n",
    "print(arr.dtype)"
   ]
  },
  {
   "cell_type": "markdown",
   "id": "98fdbaea",
   "metadata": {},
   "source": [
    "### ndarray creation from existing data"
   ]
  },
  {
   "cell_type": "code",
   "execution_count": null,
   "id": "4b229b0d",
   "metadata": {},
   "outputs": [
    {
     "name": "stdout",
     "output_type": "stream",
     "text": [
      "[1, 2, 3, 4, 500.67]\n",
      "[  1   2   3   4 500]\n",
      "<class 'numpy.ndarray'>\n",
      "int32\n"
     ]
    }
   ],
   "source": [
    "lst = [1,2,3,4,500.67]\n",
    "print(lst)\n",
    "arr  = np.array(lst,dtype=np.int32)\n",
    "print(arr)\n",
    "print(type(arr))\n",
    "print(arr.dtype)"
   ]
  },
  {
   "cell_type": "code",
   "execution_count": null,
   "id": "a5271240",
   "metadata": {},
   "outputs": [
    {
     "name": "stdout",
     "output_type": "stream",
     "text": [
      "['1' '3' '4' '5' 'True' 'False' 'Hello']\n",
      "<U21\n"
     ]
    }
   ],
   "source": [
    "lst = [1,3,4,5,True,False,\"Hello\"]\n",
    "# mixed data types will be converted to a upcasting type\n",
    "arr = np.array(lst)\n",
    "print(arr)\n",
    "print(arr.dtype)"
   ]
  },
  {
   "cell_type": "code",
   "execution_count": null,
   "id": "4c01dcc9",
   "metadata": {},
   "outputs": [
    {
     "name": "stdout",
     "output_type": "stream",
     "text": [
      "[1 2 3 4 5]\n",
      "int32\n"
     ]
    }
   ],
   "source": [
    "#tuple to array\n",
    "tup = (1,2,3,4,5)\n",
    "arr = np.array(tup, dtype=np.int32)\n",
    "print(arr)\n",
    "print(arr.dtype)\n"
   ]
  },
  {
   "cell_type": "code",
   "execution_count": null,
   "id": "26546809",
   "metadata": {},
   "outputs": [
    {
     "name": "stdout",
     "output_type": "stream",
     "text": [
      "[1 2 3 4 5]\n",
      "int32\n",
      "<class 'numpy.ndarray'>\n",
      "1\n",
      "(5,)\n"
     ]
    }
   ],
   "source": [
    "# Set\n",
    "s = {1,2,3,4,5}\n",
    "arr = np.array(list(s), dtype=np.int32)\n",
    "print(arr)\n",
    "print(arr.dtype)\n",
    "print(type(arr))\n",
    "print(arr.ndim)\n",
    "print(arr.shape)"
   ]
  },
  {
   "cell_type": "code",
   "execution_count": null,
   "id": "ba04f7aa",
   "metadata": {},
   "outputs": [
    {
     "name": "stdout",
     "output_type": "stream",
     "text": [
      "['a' 'b' 'c']\n",
      "<U1\n",
      "<class 'numpy.ndarray'>\n",
      "1\n",
      "(3,)\n",
      "----- Values -----\n",
      "[1 2 3]\n",
      "int32\n",
      "<class 'numpy.ndarray'>\n",
      "1\n",
      "(3,)\n",
      "dict_items([('a', 1), ('b', 2), ('c', 3)])\n",
      "[['a' '1']\n",
      " ['b' '2']\n",
      " ['c' '3']]\n",
      "<U21\n",
      "<class 'numpy.ndarray'>\n",
      "2\n",
      "(3, 2)\n"
     ]
    }
   ],
   "source": [
    "# dictionary to array\n",
    "d = {'a':1, 'b':2, 'c':3}\n",
    "karr = np.array(list(d.keys()))\n",
    "\n",
    "print(karr)\n",
    "print(karr.dtype)\n",
    "print(type(karr))\n",
    "print(karr.ndim)\n",
    "print(karr.shape)\n",
    "\n",
    "print(\"----- Values -----\")\n",
    "varr = np.array(list(d.values()), dtype=np.int32)\n",
    "\n",
    "print(varr)\n",
    "print(varr.dtype)\n",
    "print(type(varr))\n",
    "print(varr.ndim)\n",
    "print(varr.shape)\n",
    "\n",
    "\n",
    "items = d.items()\n",
    "print(items)\n",
    "iarr = np.array(list(items))\n",
    "print(iarr)\n",
    "print(iarr.dtype)\n",
    "print(type(iarr))\n",
    "print(iarr.ndim)    \n",
    "print(iarr.shape)"
   ]
  },
  {
   "cell_type": "markdown",
   "id": "6d677b44",
   "metadata": {},
   "source": [
    "#### ndarray Creation from Scrach"
   ]
  },
  {
   "cell_type": "code",
   "execution_count": null,
   "id": "70c9129d",
   "metadata": {},
   "outputs": [
    {
     "name": "stdout",
     "output_type": "stream",
     "text": [
      "[[0 0 0 0]\n",
      " [0 0 0 0]\n",
      " [0 0 0 0]]\n",
      "int16\n",
      "<class 'numpy.ndarray'>\n",
      "2\n",
      "(3, 4)\n",
      "12\n"
     ]
    }
   ],
   "source": [
    "arr = np.zeros((3,4), dtype=np.int16)\n",
    "print(arr)\n",
    "print(arr.dtype)\n",
    "print(type(arr))\n",
    "print(arr.ndim)\n",
    "print(arr.shape)\n",
    "print(arr.size) "
   ]
  },
  {
   "cell_type": "code",
   "execution_count": null,
   "id": "3978791f",
   "metadata": {},
   "outputs": [
    {
     "name": "stdout",
     "output_type": "stream",
     "text": [
      "[[[0 0 0]\n",
      "  [0 0 0]\n",
      "  [0 0 0]]\n",
      "\n",
      " [[0 0 0]\n",
      "  [0 0 0]\n",
      "  [0 0 0]]\n",
      "\n",
      " [[0 0 0]\n",
      "  [0 0 0]\n",
      "  [0 0 0]]]\n",
      "int64\n",
      "(3, 3, 3)\n"
     ]
    }
   ],
   "source": [
    "# create a 0 array by coping a array size \n",
    "arr = np.zeros_like(arr3)\n",
    "print(arr)\n",
    "print(arr.dtype)\n",
    "print(arr.shape)"
   ]
  },
  {
   "cell_type": "code",
   "execution_count": null,
   "id": "ff268bef",
   "metadata": {},
   "outputs": [
    {
     "name": "stdout",
     "output_type": "stream",
     "text": [
      "[[1 1 1]\n",
      " [1 1 1]\n",
      " [1 1 1]\n",
      " [1 1 1]]\n",
      "int16\n",
      "<class 'numpy.ndarray'>\n",
      "2\n",
      "(4, 3)\n",
      "12\n"
     ]
    }
   ],
   "source": [
    "# ones\n",
    "arr = np.ones((4,3), dtype=np.int16)\n",
    "print(arr)\n",
    "print(arr.dtype)\n",
    "print(type(arr))\n",
    "print(arr.ndim)\n",
    "print(arr.shape)\n",
    "print(arr.size) "
   ]
  },
  {
   "cell_type": "code",
   "execution_count": null,
   "id": "4142c7a1",
   "metadata": {},
   "outputs": [
    {
     "name": "stdout",
     "output_type": "stream",
     "text": [
      "[[[1 1 1]\n",
      "  [1 1 1]\n",
      "  [1 1 1]]\n",
      "\n",
      " [[1 1 1]\n",
      "  [1 1 1]\n",
      "  [1 1 1]]\n",
      "\n",
      " [[1 1 1]\n",
      "  [1 1 1]\n",
      "  [1 1 1]]]\n",
      "int64\n",
      "<class 'numpy.ndarray'>\n",
      "3\n",
      "(3, 3, 3)\n",
      "27\n"
     ]
    }
   ],
   "source": [
    "arr = np.ones_like(arr3)\n",
    "print(arr)\n",
    "print(arr.dtype)\n",
    "print(type(arr))\n",
    "print(arr.ndim)\n",
    "print(arr.shape)\n",
    "print(arr.size) "
   ]
  },
  {
   "cell_type": "code",
   "execution_count": null,
   "id": "e92f39d4",
   "metadata": {},
   "outputs": [
    {
     "name": "stdout",
     "output_type": "stream",
     "text": [
      "[[10 10 10 10]\n",
      " [10 10 10 10]\n",
      " [10 10 10 10]\n",
      " [10 10 10 10]]\n",
      "int16\n",
      "<class 'numpy.ndarray'>\n",
      "2\n",
      "(4, 4)\n",
      "16\n"
     ]
    }
   ],
   "source": [
    "# full\n",
    "from math import inf\n",
    "\n",
    "\n",
    "arr = np.full((4,4),10, dtype=np.int16)\n",
    "print(arr)\n",
    "print(arr.dtype)\n",
    "print(type(arr))\n",
    "print(arr.ndim)\n",
    "print(arr.shape)\n",
    "print(arr.size) "
   ]
  },
  {
   "cell_type": "code",
   "execution_count": null,
   "id": "878260f2",
   "metadata": {},
   "outputs": [
    {
     "name": "stdout",
     "output_type": "stream",
     "text": [
      "[[[0. 0. 0.]\n",
      "  [0. 0. 0.]\n",
      "  [0. 0. 0.]]\n",
      "\n",
      " [[0. 0. 0.]\n",
      "  [0. 0. 0.]\n",
      "  [0. 0. 0.]]\n",
      "\n",
      " [[0. 0. 0.]\n",
      "  [0. 0. 0.]\n",
      "  [0. 0. 0.]]]\n",
      "float64\n",
      "<class 'numpy.ndarray'>\n",
      "3\n",
      "(3, 3, 3)\n",
      "27\n"
     ]
    }
   ],
   "source": [
    "arr = np.full_like(arr3,False, dtype=np.float64)\n",
    "print(arr)\n",
    "print(arr.dtype)\n",
    "print(type(arr))\n",
    "print(arr.ndim)\n",
    "print(arr.shape)\n",
    "print(arr.size) "
   ]
  },
  {
   "cell_type": "code",
   "execution_count": 24,
   "id": "fb264d1e",
   "metadata": {},
   "outputs": [
    {
     "name": "stdout",
     "output_type": "stream",
     "text": [
      "[[0.56637077 0.23021631 0.23368018]\n",
      " [0.54382503 0.59374679 0.95059102]]\n",
      "float64\n",
      "<class 'numpy.ndarray'>\n",
      "2\n",
      "(2, 3)\n",
      "6\n"
     ]
    }
   ],
   "source": [
    "# Array creation with random values\n",
    "arr = np.random.rand(2,3)\n",
    "print(arr)\n",
    "print(arr.dtype)\n",
    "print(type(arr))\n",
    "print(arr.ndim)\n",
    "print(arr.shape)\n",
    "print(arr.size) "
   ]
  },
  {
   "cell_type": "code",
   "execution_count": 26,
   "id": "02ce1173",
   "metadata": {},
   "outputs": [
    {
     "name": "stdout",
     "output_type": "stream",
     "text": [
      "[[16 66 59]\n",
      " [22 91 70]]\n",
      "int32\n",
      "<class 'numpy.ndarray'>\n",
      "2\n",
      "(2, 3)\n",
      "6\n"
     ]
    }
   ],
   "source": [
    "arr = np.random.randint(1,100,(2,3))\n",
    "print(arr)\n",
    "print(arr.dtype)\n",
    "print(type(arr))\n",
    "print(arr.ndim)\n",
    "print(arr.shape)\n",
    "print(arr.size) "
   ]
  },
  {
   "cell_type": "code",
   "execution_count": 28,
   "id": "31af31c7",
   "metadata": {},
   "outputs": [
    {
     "name": "stdout",
     "output_type": "stream",
     "text": [
      "[[11.90386593 10.77233406 17.98945075]\n",
      " [12.05712955 13.23336351 19.01608852]\n",
      " [14.9945517  11.6672553  11.52434787]\n",
      " [18.03836053 13.53831474 11.57722656]\n",
      " [18.23337739 13.8627459  16.09730499]]\n",
      "float64\n",
      "<class 'numpy.ndarray'>\n",
      "2\n",
      "(5, 3)\n",
      "15\n"
     ]
    }
   ],
   "source": [
    "arr = np.random.uniform(10,20,(5,3))\n",
    "print(arr)\n",
    "print(arr.dtype)\n",
    "print(type(arr))\n",
    "print(arr.ndim)\n",
    "print(arr.shape)\n",
    "print(arr.size) "
   ]
  },
  {
   "cell_type": "code",
   "execution_count": 31,
   "id": "b758c45f",
   "metadata": {},
   "outputs": [
    {
     "name": "stdout",
     "output_type": "stream",
     "text": [
      "[[5 6]\n",
      " [7 8]]\n"
     ]
    }
   ],
   "source": [
    "# Array creation with range function\n",
    "arr = np.arange(5,9,1).reshape(2,2)\n",
    "print(arr)"
   ]
  },
  {
   "cell_type": "code",
   "execution_count": 37,
   "id": "fdd64509",
   "metadata": {},
   "outputs": [
    {
     "name": "stdout",
     "output_type": "stream",
     "text": [
      "[ 1.   1.9  2.8  3.7  4.6  5.5  6.4  7.3  8.2  9.1 10. ]\n",
      "float64\n",
      "<class 'numpy.ndarray'>\n",
      "1\n",
      "(11,)\n",
      "11\n"
     ]
    }
   ],
   "source": [
    "arr = np.linspace(1,10,11)\n",
    "print(arr)\n",
    "print(arr.dtype)\n",
    "print(type(arr))\n",
    "print(arr.ndim)\n",
    "print(arr.shape)\n",
    "print(arr.size) "
   ]
  },
  {
   "cell_type": "code",
   "execution_count": 41,
   "id": "171bcac6",
   "metadata": {},
   "outputs": [
    {
     "name": "stdout",
     "output_type": "stream",
     "text": [
      "[1.e+00 1.e+01 1.e+02 1.e+03 1.e+04]\n",
      "float64\n",
      "<class 'numpy.ndarray'>\n",
      "1\n",
      "(5,)\n",
      "5\n"
     ]
    }
   ],
   "source": [
    "arr = np.logspace(0,4,5)\n",
    "print(arr)\n",
    "print(arr.dtype)\n",
    "print(type(arr))\n",
    "print(arr.ndim)\n",
    "print(arr.shape)\n",
    "print(arr.size) "
   ]
  },
  {
   "cell_type": "code",
   "execution_count": 46,
   "id": "93b67416",
   "metadata": {},
   "outputs": [
    {
     "name": "stdout",
     "output_type": "stream",
     "text": [
      "[1.  1.8 2.6 3.4 4.2 5. ]\n",
      "[ 2.          3.48220225  6.06286627 10.55606329 18.37917368 32.        ]\n"
     ]
    }
   ],
   "source": [
    "arr = np.linspace(1,5,6)\n",
    "print(arr)\n",
    "larr = np.logspace(1,5,6, base=2)\n",
    "print(larr)"
   ]
  },
  {
   "cell_type": "code",
   "execution_count": null,
   "id": "9b125067",
   "metadata": {},
   "outputs": [],
   "source": []
  }
 ],
 "metadata": {
  "kernelspec": {
   "display_name": "anaconda-ml-ai",
   "language": "python",
   "name": "python3"
  },
  "language_info": {
   "codemirror_mode": {
    "name": "ipython",
    "version": 3
   },
   "file_extension": ".py",
   "mimetype": "text/x-python",
   "name": "python",
   "nbconvert_exporter": "python",
   "pygments_lexer": "ipython3",
   "version": "3.11.13"
  }
 },
 "nbformat": 4,
 "nbformat_minor": 5
}
