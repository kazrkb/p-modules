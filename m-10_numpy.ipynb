{
 "cells": [
  {
   "cell_type": "code",
   "execution_count": 24,
   "id": "e0fb4e11",
   "metadata": {},
   "outputs": [
    {
     "name": "stdout",
     "output_type": "stream",
     "text": [
      "[1, 2, 3, 1, 2, 3, 1, 2, 3, 1, 2, 3, 1, 2, 3]\n",
      "[5, 10, 15]\n"
     ]
    }
   ],
   "source": [
    "arr = [1,2,3]\n",
    "print(arr*5)\n",
    "\n",
    "arr = [x*5 for x in arr]\n",
    "print(arr)"
   ]
  },
  {
   "cell_type": "code",
   "execution_count": 25,
   "id": "5d5278f7",
   "metadata": {},
   "outputs": [
    {
     "name": "stdout",
     "output_type": "stream",
     "text": [
      "[ 5 10 15]\n"
     ]
    }
   ],
   "source": [
    "import numpy as np\n",
    "arr1 = np.array([1,2,3])\n",
    "\n",
    "arr1 = arr1*5\n",
    "print(arr1)"
   ]
  },
  {
   "cell_type": "code",
   "execution_count": 26,
   "id": "1e5b9b6e",
   "metadata": {},
   "outputs": [
    {
     "name": "stdout",
     "output_type": "stream",
     "text": [
      "<class 'numpy.ndarray'>\n",
      "Dimension: 1\n",
      "Shape: (4,)\n",
      "Size: 4\n",
      "---------------------------------------\n",
      "[[1 2 3]\n",
      " [5 6 7]]\n",
      "Dimension: 2\n",
      "Shape: (2, 3)\n",
      "Size: 6\n",
      "---------------------------------------\n",
      "[[[ 1  2  3]\n",
      "  [ 4  5  6]\n",
      "  [ 7  8  9]]\n",
      "\n",
      " [[10 11 12]\n",
      "  [13 14 15]\n",
      "  [16 17 18]]\n",
      "\n",
      " [[19 20 21]\n",
      "  [22 23 24]\n",
      "  [25 26 27]]]\n",
      "Dimension: 3\n",
      "Shape: (3, 3, 3)\n",
      "Size: 27\n"
     ]
    }
   ],
   "source": [
    "arr1 = np.array([20,34,56,72])\n",
    "print(type(arr1))\n",
    "print(\"Dimension:\",arr1.ndim)\n",
    "print(\"Shape:\",arr1.shape)\n",
    "print(\"Size:\",arr1.size)\n",
    "print(\"---------------------------------------\")\n",
    "#2D array\n",
    "arr2 = np.array(\n",
    "    [\n",
    "        [1,2,3],\n",
    "        [5,6,7]\n",
    "    ]\n",
    ")\n",
    "\n",
    "print(arr2)\n",
    "print(\"Dimension:\",arr2.ndim)\n",
    "print(\"Shape:\",arr2.shape)\n",
    "print(\"Size:\",arr2.size)\n",
    "print(\"---------------------------------------\")\n",
    "#3D array\n",
    "arr3 = np.array([\n",
    "    # First 2D array\n",
    "    [\n",
    "        # First row\n",
    "        [1,2,3],\n",
    "        # Second row\n",
    "        [4,5,6],\n",
    "        # Third row\n",
    "        [7,8,9]\n",
    "    ],\n",
    "    [\n",
    "        [10,11,12],\n",
    "        [13,14,15],\n",
    "        [16,17,18]\n",
    "    ],\n",
    "    [\n",
    "        [19,20,21],\n",
    "        [22,23,24],\n",
    "        [25,26,27]\n",
    "    ]\n",
    "])\n",
    "\n",
    "print(arr3)\n",
    "print(\"Dimension:\",arr3.ndim)\n",
    "print(\"Shape:\",arr3.shape)\n",
    "print(\"Size:\",arr3.size)"
   ]
  },
  {
   "cell_type": "code",
   "execution_count": 27,
   "id": "a6427bb9",
   "metadata": {},
   "outputs": [
    {
     "name": "stdout",
     "output_type": "stream",
     "text": [
      "<U32\n"
     ]
    }
   ],
   "source": [
    "arr = np.array([1,2,3.45,'6'])\n",
    "print(arr.dtype)"
   ]
  },
  {
   "cell_type": "code",
   "execution_count": 28,
   "id": "b2a5ab0e",
   "metadata": {},
   "outputs": [
    {
     "ename": "OverflowError",
     "evalue": "Python integer 400 out of bounds for int8",
     "output_type": "error",
     "traceback": [
      "\u001b[31m---------------------------------------------------------------------------\u001b[39m",
      "\u001b[31mOverflowError\u001b[39m                             Traceback (most recent call last)",
      "\u001b[36mCell\u001b[39m\u001b[36m \u001b[39m\u001b[32mIn[28]\u001b[39m\u001b[32m, line 1\u001b[39m\n\u001b[32m----> \u001b[39m\u001b[32m1\u001b[39m arr = \u001b[43mnp\u001b[49m\u001b[43m.\u001b[49m\u001b[43marray\u001b[49m\u001b[43m(\u001b[49m\u001b[43m[\u001b[49m\u001b[32;43m1\u001b[39;49m\u001b[43m,\u001b[49m\u001b[32;43m2\u001b[39;49m\u001b[43m,\u001b[49m\u001b[32;43m3\u001b[39;49m\u001b[43m,\u001b[49m\u001b[32;43m400\u001b[39;49m\u001b[43m]\u001b[49m\u001b[43m,\u001b[49m\u001b[43mdtype\u001b[49m\u001b[43m=\u001b[49m\u001b[43mnp\u001b[49m\u001b[43m.\u001b[49m\u001b[43mint8\u001b[49m\u001b[43m)\u001b[49m\n\u001b[32m      2\u001b[39m \u001b[38;5;28mprint\u001b[39m(arr.dtype)\n",
      "\u001b[31mOverflowError\u001b[39m: Python integer 400 out of bounds for int8"
     ]
    }
   ],
   "source": [
    "arr = np.array([1,2,3,400],dtype=np.int8)\n",
    "print(arr.dtype)"
   ]
  },
  {
   "cell_type": "code",
   "execution_count": null,
   "id": "22c9c1a3",
   "metadata": {},
   "outputs": [
    {
     "name": "stdout",
     "output_type": "stream",
     "text": [
      "int16\n"
     ]
    }
   ],
   "source": [
    "arr = np.array([1,2,3,400],dtype=np.int16)\n",
    "print(arr.dtype)"
   ]
  },
  {
   "cell_type": "code",
   "execution_count": null,
   "id": "981b68f6",
   "metadata": {},
   "outputs": [
    {
     "name": "stdout",
     "output_type": "stream",
     "text": [
      "int64\n",
      "int16\n"
     ]
    }
   ],
   "source": [
    "arr = np.array([1,2,3,400])\n",
    "print(arr.dtype)\n",
    "arr = arr.astype(np.int16)\n",
    "print(arr.dtype)"
   ]
  },
  {
   "cell_type": "markdown",
   "id": "98fdbaea",
   "metadata": {},
   "source": [
    "### ndarray creation from existing data"
   ]
  },
  {
   "cell_type": "code",
   "execution_count": 31,
   "id": "4b229b0d",
   "metadata": {},
   "outputs": [
    {
     "name": "stdout",
     "output_type": "stream",
     "text": [
      "[1, 2, 3, 4, 500.67]\n",
      "[  1   2   3   4 500]\n",
      "<class 'numpy.ndarray'>\n",
      "int32\n"
     ]
    }
   ],
   "source": [
    "lst = [1,2,3,4,500.67]\n",
    "print(lst)\n",
    "arr  = np.array(lst,dtype=np.int32)\n",
    "print(arr)\n",
    "print(type(arr))\n",
    "print(arr.dtype)"
   ]
  },
  {
   "cell_type": "code",
   "execution_count": null,
   "id": "a5271240",
   "metadata": {},
   "outputs": [
    {
     "name": "stdout",
     "output_type": "stream",
     "text": [
      "['1' '3' '4' '5' 'True' 'False' 'Hello']\n",
      "<U21\n"
     ]
    }
   ],
   "source": [
    "lst = [1,3,4,5,True,False,\"Hello\"]\n",
    "# mixed data types will be converted to a upcasting type\n",
    "arr = np.array(lst)\n",
    "print(arr)\n",
    "print(arr.dtype)"
   ]
  },
  {
   "cell_type": "code",
   "execution_count": 35,
   "id": "4c01dcc9",
   "metadata": {},
   "outputs": [
    {
     "name": "stdout",
     "output_type": "stream",
     "text": [
      "[1 2 3 4 5]\n",
      "int32\n"
     ]
    }
   ],
   "source": [
    "#tuple to array\n",
    "tup = (1,2,3,4,5)\n",
    "arr = np.array(tup, dtype=np.int32)\n",
    "print(arr)\n",
    "print(arr.dtype)\n"
   ]
  },
  {
   "cell_type": "code",
   "execution_count": 38,
   "id": "26546809",
   "metadata": {},
   "outputs": [
    {
     "name": "stdout",
     "output_type": "stream",
     "text": [
      "[1 2 3 4 5]\n",
      "int32\n",
      "<class 'numpy.ndarray'>\n",
      "1\n",
      "(5,)\n"
     ]
    }
   ],
   "source": [
    "# Set\n",
    "s = {1,2,3,4,5}\n",
    "arr = np.array(list(s), dtype=np.int32)\n",
    "print(arr)\n",
    "print(arr.dtype)\n",
    "print(type(arr))\n",
    "print(arr.ndim)\n",
    "print(arr.shape)"
   ]
  },
  {
   "cell_type": "code",
   "execution_count": 39,
   "id": "ba04f7aa",
   "metadata": {},
   "outputs": [
    {
     "name": "stdout",
     "output_type": "stream",
     "text": [
      "[1 2 3]\n",
      "int32\n",
      "<class 'numpy.ndarray'>\n",
      "1\n",
      "(3,)\n"
     ]
    }
   ],
   "source": [
    "# dictionary to array\n",
    "d = {'a':1, 'b':2, 'c':3}\n",
    "arr = np.array(list(d.values()), dtype=np.int32)\n",
    "print(arr)\n",
    "print(arr.dtype)\n",
    "print(type(arr))\n",
    "print(arr.ndim)\n",
    "print(arr.shape)"
   ]
  },
  {
   "cell_type": "code",
   "execution_count": null,
   "id": "70c9129d",
   "metadata": {},
   "outputs": [],
   "source": []
  }
 ],
 "metadata": {
  "kernelspec": {
   "display_name": "anaconda-ml-ai",
   "language": "python",
   "name": "python3"
  },
  "language_info": {
   "codemirror_mode": {
    "name": "ipython",
    "version": 3
   },
   "file_extension": ".py",
   "mimetype": "text/x-python",
   "name": "python",
   "nbconvert_exporter": "python",
   "pygments_lexer": "ipython3",
   "version": "3.11.13"
  }
 },
 "nbformat": 4,
 "nbformat_minor": 5
}
