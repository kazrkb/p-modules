{
 "cells": [
  {
   "cell_type": "code",
   "execution_count": 1,
   "id": "e0fb4e11",
   "metadata": {},
   "outputs": [
    {
     "name": "stdout",
     "output_type": "stream",
     "text": [
      "[1, 2, 3, 1, 2, 3, 1, 2, 3, 1, 2, 3, 1, 2, 3]\n",
      "[5, 10, 15]\n"
     ]
    }
   ],
   "source": [
    "arr = [1,2,3]\n",
    "print(arr*5)\n",
    "\n",
    "arr = [x*5 for x in arr]\n",
    "print(arr)"
   ]
  },
  {
   "cell_type": "code",
   "execution_count": 2,
   "id": "5d5278f7",
   "metadata": {},
   "outputs": [
    {
     "name": "stdout",
     "output_type": "stream",
     "text": [
      "[ 5 10 15]\n"
     ]
    }
   ],
   "source": [
    "import numpy as np\n",
    "arr1 = np.array([1,2,3])\n",
    "\n",
    "arr1 = arr1*5\n",
    "print(arr1)"
   ]
  },
  {
   "cell_type": "code",
   "execution_count": 4,
   "id": "1e5b9b6e",
   "metadata": {},
   "outputs": [
    {
     "name": "stdout",
     "output_type": "stream",
     "text": [
      "<class 'numpy.ndarray'>\n",
      "Dimension: 1\n",
      "Shape: (4,)\n",
      "Size: 4\n",
      "---------------------------------------\n",
      "[[1 2 3]\n",
      " [5 6 7]]\n",
      "Dimension: 2\n",
      "Shape: (2, 3)\n",
      "Size: 6\n",
      "---------------------------------------\n",
      "[[[ 1  2  3]\n",
      "  [ 4  5  6]\n",
      "  [ 7  8  9]]\n",
      "\n",
      " [[10 11 12]\n",
      "  [13 14 15]\n",
      "  [16 17 18]]\n",
      "\n",
      " [[19 20 21]\n",
      "  [22 23 24]\n",
      "  [25 26 27]]]\n",
      "Dimension: 3\n",
      "Shape: (3, 3, 3)\n",
      "Size: 27\n"
     ]
    }
   ],
   "source": [
    "arr1 = np.array([20,34,56,72])\n",
    "print(type(arr1))\n",
    "print(\"Dimension:\",arr1.ndim)\n",
    "print(\"Shape:\",arr1.shape)\n",
    "print(\"Size:\",arr1.size)\n",
    "print(\"---------------------------------------\")\n",
    "#2D array\n",
    "arr2 = np.array(\n",
    "    [\n",
    "        [1,2,3],\n",
    "        [5,6,7]\n",
    "    ]\n",
    ")\n",
    "\n",
    "print(arr2)\n",
    "print(\"Dimension:\",arr2.ndim)\n",
    "print(\"Shape:\",arr2.shape)\n",
    "print(\"Size:\",arr2.size)\n",
    "print(\"---------------------------------------\")\n",
    "#3D array\n",
    "arr3 = np.array([\n",
    "    # First 2D array\n",
    "    [\n",
    "        # First row\n",
    "        [1,2,3],\n",
    "        # Second row\n",
    "        [4,5,6],\n",
    "        # Third row\n",
    "        [7,8,9]\n",
    "    ],\n",
    "    [\n",
    "        [10,11,12],\n",
    "        [13,14,15],\n",
    "        [16,17,18]\n",
    "    ],\n",
    "    [\n",
    "        [19,20,21],\n",
    "        [22,23,24],\n",
    "        [25,26,27]\n",
    "    ]\n",
    "])\n",
    "\n",
    "print(arr3)\n",
    "print(\"Dimension:\",arr3.ndim)\n",
    "print(\"Shape:\",arr3.shape)\n",
    "print(\"Size:\",arr3.size)"
   ]
  },
  {
   "cell_type": "code",
   "execution_count": null,
   "id": "a6427bb9",
   "metadata": {},
   "outputs": [],
   "source": []
  }
 ],
 "metadata": {
  "kernelspec": {
   "display_name": "anaconda-ml-ai",
   "language": "python",
   "name": "python3"
  },
  "language_info": {
   "codemirror_mode": {
    "name": "ipython",
    "version": 3
   },
   "file_extension": ".py",
   "mimetype": "text/x-python",
   "name": "python",
   "nbconvert_exporter": "python",
   "pygments_lexer": "ipython3",
   "version": "3.11.13"
  }
 },
 "nbformat": 4,
 "nbformat_minor": 5
}
