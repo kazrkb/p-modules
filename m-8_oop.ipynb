{
 "cells": [
  {
   "cell_type": "code",
   "execution_count": null,
   "id": "e023d111",
   "metadata": {},
   "outputs": [
    {
     "name": "stdout",
     "output_type": "stream",
     "text": [
      "iPhone 17\n",
      "5000\n"
     ]
    }
   ],
   "source": [
    "class Phone:\n",
    "    category = \"Electronics\"\n",
    "    def __init__(self,model,battery,camera):\n",
    "        self.model = model\n",
    "        self.battery = battery\n",
    "        self.camera = camera\n",
    "    \n",
    "    def charge(self,hour):\n",
    "         \n",
    "\n",
    "apple = Phone(\"iPhone 17\", 4250, 48)\n",
    "print(apple.model)\n",
    "samsung = Phone(\"s25 ultra\", 5000, 200)\n",
    "print(samsung.battery)"
   ]
  },
  {
   "cell_type": "code",
   "execution_count": null,
   "id": "9674680b",
   "metadata": {},
   "outputs": [],
   "source": []
  }
 ],
 "metadata": {
  "kernelspec": {
   "display_name": "anaconda-ml-ai",
   "language": "python",
   "name": "python3"
  },
  "language_info": {
   "codemirror_mode": {
    "name": "ipython",
    "version": 3
   },
   "file_extension": ".py",
   "mimetype": "text/x-python",
   "name": "python",
   "nbconvert_exporter": "python",
   "pygments_lexer": "ipython3",
   "version": "3.11.13"
  }
 },
 "nbformat": 4,
 "nbformat_minor": 5
}
