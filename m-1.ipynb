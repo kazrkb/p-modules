{
 "cells": [
  {
   "cell_type": "markdown",
   "id": "e7b8ee17",
   "metadata": {},
   "source": [
    "## in build basic data structure"
   ]
  },
  {
   "cell_type": "code",
   "execution_count": 3,
   "id": "70049c97",
   "metadata": {},
   "outputs": [
    {
     "name": "stdout",
     "output_type": "stream",
     "text": [
      "[[1, 2, ['rofiq', 'sidiqque', 5.6, 50.0], 7], [89, 45], 33]\n"
     ]
    }
   ],
   "source": [
    "list = [[1,2,[\"rofiq\",\"sidiqque\", 5.6, 100/2],7],[89,45]]\n",
    "list.append(33)\n",
    "print(list)"
   ]
  },
  {
   "cell_type": "code",
   "execution_count": 4,
   "id": "63fc4fbb",
   "metadata": {},
   "outputs": [
    {
     "name": "stdout",
     "output_type": "stream",
     "text": [
      "[[1, 2], [3, 2], [4, 3]]\n"
     ]
    }
   ],
   "source": [
    "list_2D = [[1,2],[3,2]]\n",
    "list_2D.append([4,3])\n",
    "print(list_2D)"
   ]
  },
  {
   "cell_type": "code",
   "execution_count": 5,
   "id": "ae674a56",
   "metadata": {},
   "outputs": [
    {
     "name": "stdout",
     "output_type": "stream",
     "text": [
      "(1, 2, 5, [56, 23], 'nayeem')\n"
     ]
    }
   ],
   "source": [
    "tuple = (1,2,5, [56,23], \"nayeem\")\n",
    "print(tuple)"
   ]
  },
  {
   "cell_type": "code",
   "execution_count": 11,
   "id": "faaed67f",
   "metadata": {},
   "outputs": [
    {
     "name": "stdout",
     "output_type": "stream",
     "text": [
      "Rakib\n",
      "45 IUB\n"
     ]
    }
   ],
   "source": [
    "dictionary = {\n",
    "    \"name\": \"Rakib\",\n",
    "    \"age\": 32,\n",
    "    \"country\": \"Bangladesh\"\n",
    "}\n",
    "\n",
    "print(dictionary[\"name\"])\n",
    "dictionary[\"age\"] = 45\n",
    "dictionary[\"uni\"] = \"IUB\"\n",
    "print(dictionary[\"age\"], dictionary[\"uni\"])"
   ]
  },
  {
   "cell_type": "code",
   "execution_count": 12,
   "id": "7ac25abd",
   "metadata": {},
   "outputs": [
    {
     "name": "stdout",
     "output_type": "stream",
     "text": [
      "{1, 2, 3, 'Kuddus'}\n"
     ]
    }
   ],
   "source": [
    "set = {1,2,2,3,3,\"Kuddus\"}\n",
    "print(set)"
   ]
  },
  {
   "cell_type": "code",
   "execution_count": 22,
   "id": "a6df11ce",
   "metadata": {},
   "outputs": [
    {
     "name": "stdout",
     "output_type": "stream",
     "text": [
      "[2, 3, 4]\n",
      "[7, 8, 9]\n",
      "[1, 4, 7]\n",
      "[9, 7, 5, 3, 1]\n",
      "[9, 8, 7, 6, 5, 4, 3, 2, 1]\n",
      "[1, 2, 3, 4, 5, 6]\n"
     ]
    }
   ],
   "source": [
    "nums = [1,2,3,4,5,6,7,8,9]\n",
    "print(nums[1:4])\n",
    "print(nums[-3:])\n",
    "print(nums[::3])\n",
    "print(nums[::-2])\n",
    "print(nums[::-1])\n",
    "print(nums[:-3])"
   ]
  },
  {
   "cell_type": "code",
   "execution_count": 27,
   "id": "a8fa93ff",
   "metadata": {},
   "outputs": [
    {
     "name": "stdout",
     "output_type": "stream",
     "text": [
      "0  there is no element\n",
      "1  there is an element\n",
      "  there is no element\n",
      "rofiq  there is an element\n",
      "{}  there is no element\n",
      "{'name': 'Rakib'}  there is an element\n",
      "None  there is no element\n"
     ]
    }
   ],
   "source": [
    "samples = [0,1,\"\",\"rofiq\",{},{\"name\": \"Rakib\"}, None]\n",
    "\n",
    "for sample in samples:\n",
    "    if sample:\n",
    "        print(sample, \" there is an element\")\n",
    "    else:\n",
    "        print(sample, \" there is no element\")"
   ]
  },
  {
   "cell_type": "code",
   "execution_count": 28,
   "id": "31657078",
   "metadata": {},
   "outputs": [
    {
     "name": "stdout",
     "output_type": "stream",
     "text": [
      "Nayeem scored 98% (next: 99%)\n"
     ]
    }
   ],
   "source": [
    "# format string\n",
    "\n",
    "name = \"Nayeem\"\n",
    "score = 98\n",
    "print(f\"{name} scored {score}% (next: {score + 1}%)\")"
   ]
  },
  {
   "cell_type": "code",
   "execution_count": 35,
   "id": "f53454bd",
   "metadata": {},
   "outputs": [
    {
     "name": "stdout",
     "output_type": "stream",
     "text": [
      "User name Rakib \n",
      " email: rakib@outlook.com \n",
      " City: Chadpur\n",
      "first item price: 81000\n"
     ]
    }
   ],
   "source": [
    "## nested data structure\n",
    "\n",
    "data = {\n",
    "    \"user\": {\n",
    "        \"name\": \"Rakib\",\n",
    "        \"id\": 56678,\n",
    "        \"contact\": {\n",
    "            \"email\": [\"rakib@gmail.com\",\"rakib@outlook.com\"],\n",
    "            \"phone\": [\"01556343454\",\"01554215452\"]\n",
    "        },\n",
    "        \"address\": {\n",
    "            \"zip\": 3600,\n",
    "            \"city\":\"Chadpur\",\n",
    "            \"division\": \"Chottogram\"\n",
    "        }\n",
    "    },\n",
    "    \"items\": [\n",
    "        {\n",
    "            \"name\": \"Macbook Air M1\",\n",
    "            \"price\": 81000\n",
    "        },\n",
    "        {\n",
    "            \"name\": \"Samsung Fold 7\",\n",
    "            \"price\": 190000\n",
    "        }\n",
    "    ]\n",
    "}\n",
    "\n",
    "\n",
    "print(f\"User name {data['user']['name']} \\n email: {data['user']['contact']['email'][1]} \\n City: {data['user']['address']['city']}\")\n",
    "print(f\"first item price: {data['items'][0]['price']}\")"
   ]
  },
  {
   "cell_type": "code",
   "execution_count": 6,
   "id": "0ac246d0",
   "metadata": {},
   "outputs": [
    {
     "name": "stdout",
     "output_type": "stream",
     "text": [
      "Customer full name: Bob Johnson\n",
      "total order price: 31.69\n",
      "Item Names: ['Book', 'Notebook', 'Pen']\n"
     ]
    }
   ],
   "source": [
    "order_data = {\n",
    "    \"customer\": {\n",
    "        \"first_name\": \"Bob\",\n",
    "        \"last_name\": \"Johnson\"\n",
    "    },\n",
    "    \"items\": [\n",
    "        {\"item_name\": \"Book\",\n",
    "         \"price\": 25.99\n",
    "         },\n",
    "        {\"item_name\": \"Notebook\",\n",
    "         \"price\": 4.50\n",
    "         },\n",
    "        {\"item_name\": \"Pen\",\n",
    "         \"price\": 1.20\n",
    "         }\n",
    "    ]\n",
    "}\n",
    "\n",
    "# list comprehension for loop using\n",
    "\n",
    "# 1. Customers full name\n",
    "full_name = f\"{order_data['customer']['first_name']} {order_data['customer']['last_name']}\"\n",
    "print(f\"Customer full name: {full_name}\")\n",
    "\n",
    "# 2. Total price of all items\n",
    "total_price = round(sum(item[\"price\"] for item in order_data[\"items\"]),2)\n",
    "print(f\"total order price: {total_price}\")\n",
    "\n",
    "# 3. List of item names\n",
    "item_names = [item[\"item_name\"] for item in order_data[\"items\"]]\n",
    "print(\"Item Names:\", item_names)"
   ]
  }
 ],
 "metadata": {
  "kernelspec": {
   "display_name": "Python 3",
   "language": "python",
   "name": "python3"
  },
  "language_info": {
   "codemirror_mode": {
    "name": "ipython",
    "version": 3
   },
   "file_extension": ".py",
   "mimetype": "text/x-python",
   "name": "python",
   "nbconvert_exporter": "python",
   "pygments_lexer": "ipython3",
   "version": "3.11.9"
  }
 },
 "nbformat": 4,
 "nbformat_minor": 5
}
