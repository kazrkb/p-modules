{
 "cells": [
  {
   "cell_type": "code",
   "execution_count": 30,
   "id": "5861455c",
   "metadata": {},
   "outputs": [],
   "source": [
    "import pandas as pd"
   ]
  },
  {
   "cell_type": "code",
   "execution_count": 31,
   "id": "c6bdff4e",
   "metadata": {},
   "outputs": [
    {
     "name": "stdout",
     "output_type": "stream",
     "text": [
      "  StudentID          FullName  Data Structure Marks  Algorithm Marks  \\\n",
      "0    PH1001       Alif Rahman                  85.0             85.0   \n",
      "1    PH1002     Fatima Akhter                  92.0             92.0   \n",
      "2    PH1003     Imran Hossain                  88.0             88.0   \n",
      "3    PH1004  Jannatul Ferdous                  78.0             78.0   \n",
      "4    PH1005       Kamal Uddin                   NaN              NaN   \n",
      "\n",
      "   Python Marks CompletionStatus EnrollmentDate Instructor    Location  \n",
      "0          88.0        Completed     2024-01-15  Mr. Karim       Dhaka  \n",
      "1           NaN      In Progress     2024-01-20  Ms. Salma  Chattogram  \n",
      "2          85.0        Completed     2024-02-10  Mr. Karim       Dhaka  \n",
      "3          82.0        Completed     2024-02-12  Ms. Salma      Sylhet  \n",
      "4          95.0      In Progress     2024-03-05  Mr. Karim  Chattogram  \n"
     ]
    }
   ],
   "source": [
    "df = pd.read_csv(r\"student_data.csv\")\n",
    "print(df.head())"
   ]
  },
  {
   "cell_type": "code",
   "execution_count": 32,
   "id": "4892477f",
   "metadata": {},
   "outputs": [
    {
     "name": "stdout",
     "output_type": "stream",
     "text": [
      "0     PH1001\n",
      "1     PH1002\n",
      "2     PH1003\n",
      "3     PH1004\n",
      "4     PH1005\n",
      "5     PH1006\n",
      "6     PH1007\n",
      "7     PH1008\n",
      "8     PH1009\n",
      "9     PH1010\n",
      "10    PH1011\n",
      "11    PH1012\n",
      "12    PH1013\n",
      "13    PH1014\n",
      "14    PH1015\n",
      "15    PH1016\n",
      "16    PH1017\n",
      "17    PH1018\n",
      "18    PH1019\n",
      "19    PH1020\n",
      "Name: StudentID, dtype: object\n",
      "<class 'pandas.core.series.Series'>\n"
     ]
    }
   ],
   "source": [
    "student_id = df['StudentID']\n",
    "print(student_id)\n",
    "print(type(student_id))"
   ]
  },
  {
   "cell_type": "code",
   "execution_count": 33,
   "id": "f0aad06f",
   "metadata": {},
   "outputs": [
    {
     "name": "stdout",
     "output_type": "stream",
     "text": [
      "  StudentID          FullName  Data Structure Marks  Algorithm Marks  \\\n",
      "0    PH1001       Alif Rahman                  85.0             85.0   \n",
      "1    PH1002     Fatima Akhter                  92.0             92.0   \n",
      "2    PH1003     Imran Hossain                  88.0             88.0   \n",
      "3    PH1004  Jannatul Ferdous                  78.0             78.0   \n",
      "4    PH1005       Kamal Uddin                   NaN              NaN   \n",
      "\n",
      "   Python Marks CompletionStatus EnrollmentDate Instructor    Location  \n",
      "0          88.0        Completed     2024-01-15  Mr. Karim       Dhaka  \n",
      "1           NaN      In Progress     2024-01-20  Ms. Salma  Chattogram  \n",
      "2          85.0        Completed     2024-02-10  Mr. Karim       Dhaka  \n",
      "3          82.0        Completed     2024-02-12  Ms. Salma      Sylhet  \n",
      "4          95.0      In Progress     2024-03-05  Mr. Karim  Chattogram  \n",
      "<class 'pandas.core.frame.DataFrame'>\n"
     ]
    }
   ],
   "source": [
    "excel_df = pd.read_excel(\"phitron_student_marks.xlsx\")\n",
    "print(excel_df.head())\n",
    "print(type(excel_df))"
   ]
  },
  {
   "cell_type": "code",
   "execution_count": 34,
   "id": "b36114a1",
   "metadata": {},
   "outputs": [
    {
     "name": "stdout",
     "output_type": "stream",
     "text": [
      "  StudentID          FullName  Data Structure Marks  Algorithm Marks  \\\n",
      "0    PH1001       Alif Rahman                  85.0             85.0   \n",
      "1    PH1002     Fatima Akhter                  92.0             92.0   \n",
      "2    PH1003     Imran Hossain                  88.0             88.0   \n",
      "3    PH1004  Jannatul Ferdous                  78.0             78.0   \n",
      "4    PH1005       Kamal Uddin                   NaN              NaN   \n",
      "\n",
      "   Python Marks CompletionStatus EnrollmentDate Instructor    Location  \n",
      "0          88.0        Completed     2024-01-15  Mr. Karim       Dhaka  \n",
      "1           NaN      In Progress     2024-01-20  Ms. Salma  Chattogram  \n",
      "2          85.0        Completed     2024-02-10  Mr. Karim       Dhaka  \n",
      "3          82.0        Completed     2024-02-12  Ms. Salma      Sylhet  \n",
      "4          95.0      In Progress     2024-03-05  Mr. Karim  Chattogram  \n",
      "<class 'pandas.core.frame.DataFrame'>\n"
     ]
    }
   ],
   "source": [
    "#parquet file\n",
    "parquet_df = pd.read_parquet(\"students.parquet\")\n",
    "print(parquet_df.head())\n",
    "print(type(parquet_df))"
   ]
  },
  {
   "cell_type": "code",
   "execution_count": 35,
   "id": "354ebfad",
   "metadata": {},
   "outputs": [
    {
     "name": "stdout",
     "output_type": "stream",
     "text": [
      "  StudentID          FullName  Data Structure Marks  Algorithm Marks  \\\n",
      "0    PH1001       Alif Rahman                    85               85   \n",
      "1    PH1002     Fatima Akhter                    92               92   \n",
      "2    PH1004  Jannatul Ferdous                    78               78   \n",
      "\n",
      "   Python Marks  \n",
      "0            88  \n",
      "1            90  \n",
      "2            82  \n",
      "<class 'pandas.core.frame.DataFrame'>\n"
     ]
    }
   ],
   "source": [
    "#jason file\n",
    "json_file = pd.read_json(\"data.json\")\n",
    "print(json_file)\n",
    "print(type(json_file))"
   ]
  },
  {
   "cell_type": "code",
   "execution_count": 36,
   "id": "b5918cba",
   "metadata": {},
   "outputs": [
    {
     "data": {
      "application/vnd.microsoft.datawrangler.viewer.v0+json": {
       "columns": [
        {
         "name": "index",
         "rawType": "int64",
         "type": "integer"
        },
        {
         "name": "StudentID",
         "rawType": "object",
         "type": "string"
        },
        {
         "name": "FullName",
         "rawType": "object",
         "type": "string"
        },
        {
         "name": "Data Structure Marks",
         "rawType": "float64",
         "type": "float"
        },
        {
         "name": "Algorithm Marks",
         "rawType": "float64",
         "type": "float"
        },
        {
         "name": "Python Marks",
         "rawType": "float64",
         "type": "float"
        },
        {
         "name": "CompletionStatus",
         "rawType": "object",
         "type": "string"
        },
        {
         "name": "EnrollmentDate",
         "rawType": "object",
         "type": "string"
        },
        {
         "name": "Instructor",
         "rawType": "object",
         "type": "string"
        },
        {
         "name": "Location",
         "rawType": "object",
         "type": "string"
        }
       ],
       "ref": "d7d9117c-49d6-471b-bfbf-2e9fd3431f64",
       "rows": [
        [
         "0",
         "PH1001",
         "Alif Rahman",
         "85.0",
         "85.0",
         "88.0",
         "Completed",
         "2024-01-15",
         "Mr. Karim",
         "Dhaka"
        ],
        [
         "1",
         "PH1002",
         "Fatima Akhter",
         "92.0",
         "92.0",
         null,
         "In Progress",
         "2024-01-20",
         "Ms. Salma",
         "Chattogram"
        ],
        [
         "2",
         "PH1003",
         "Imran Hossain",
         "88.0",
         "88.0",
         "85.0",
         "Completed",
         "2024-02-10",
         "Mr. Karim",
         "Dhaka"
        ]
       ],
       "shape": {
        "columns": 9,
        "rows": 3
       }
      },
      "text/html": [
       "<div>\n",
       "<style scoped>\n",
       "    .dataframe tbody tr th:only-of-type {\n",
       "        vertical-align: middle;\n",
       "    }\n",
       "\n",
       "    .dataframe tbody tr th {\n",
       "        vertical-align: top;\n",
       "    }\n",
       "\n",
       "    .dataframe thead th {\n",
       "        text-align: right;\n",
       "    }\n",
       "</style>\n",
       "<table border=\"1\" class=\"dataframe\">\n",
       "  <thead>\n",
       "    <tr style=\"text-align: right;\">\n",
       "      <th></th>\n",
       "      <th>StudentID</th>\n",
       "      <th>FullName</th>\n",
       "      <th>Data Structure Marks</th>\n",
       "      <th>Algorithm Marks</th>\n",
       "      <th>Python Marks</th>\n",
       "      <th>CompletionStatus</th>\n",
       "      <th>EnrollmentDate</th>\n",
       "      <th>Instructor</th>\n",
       "      <th>Location</th>\n",
       "    </tr>\n",
       "  </thead>\n",
       "  <tbody>\n",
       "    <tr>\n",
       "      <th>0</th>\n",
       "      <td>PH1001</td>\n",
       "      <td>Alif Rahman</td>\n",
       "      <td>85.0</td>\n",
       "      <td>85.0</td>\n",
       "      <td>88.0</td>\n",
       "      <td>Completed</td>\n",
       "      <td>2024-01-15</td>\n",
       "      <td>Mr. Karim</td>\n",
       "      <td>Dhaka</td>\n",
       "    </tr>\n",
       "    <tr>\n",
       "      <th>1</th>\n",
       "      <td>PH1002</td>\n",
       "      <td>Fatima Akhter</td>\n",
       "      <td>92.0</td>\n",
       "      <td>92.0</td>\n",
       "      <td>NaN</td>\n",
       "      <td>In Progress</td>\n",
       "      <td>2024-01-20</td>\n",
       "      <td>Ms. Salma</td>\n",
       "      <td>Chattogram</td>\n",
       "    </tr>\n",
       "    <tr>\n",
       "      <th>2</th>\n",
       "      <td>PH1003</td>\n",
       "      <td>Imran Hossain</td>\n",
       "      <td>88.0</td>\n",
       "      <td>88.0</td>\n",
       "      <td>85.0</td>\n",
       "      <td>Completed</td>\n",
       "      <td>2024-02-10</td>\n",
       "      <td>Mr. Karim</td>\n",
       "      <td>Dhaka</td>\n",
       "    </tr>\n",
       "  </tbody>\n",
       "</table>\n",
       "</div>"
      ],
      "text/plain": [
       "  StudentID       FullName  Data Structure Marks  Algorithm Marks  \\\n",
       "0    PH1001    Alif Rahman                  85.0             85.0   \n",
       "1    PH1002  Fatima Akhter                  92.0             92.0   \n",
       "2    PH1003  Imran Hossain                  88.0             88.0   \n",
       "\n",
       "   Python Marks CompletionStatus EnrollmentDate Instructor    Location  \n",
       "0          88.0        Completed     2024-01-15  Mr. Karim       Dhaka  \n",
       "1           NaN      In Progress     2024-01-20  Ms. Salma  Chattogram  \n",
       "2          85.0        Completed     2024-02-10  Mr. Karim       Dhaka  "
      ]
     },
     "execution_count": 36,
     "metadata": {},
     "output_type": "execute_result"
    }
   ],
   "source": [
    "df = pd.read_csv(\"student_data.csv\")\n",
    "df.head(3)"
   ]
  },
  {
   "cell_type": "code",
   "execution_count": 37,
   "id": "5854f2d9",
   "metadata": {},
   "outputs": [
    {
     "data": {
      "application/vnd.microsoft.datawrangler.viewer.v0+json": {
       "columns": [
        {
         "name": "index",
         "rawType": "int64",
         "type": "integer"
        },
        {
         "name": "StudentID",
         "rawType": "object",
         "type": "string"
        },
        {
         "name": "FullName",
         "rawType": "object",
         "type": "string"
        },
        {
         "name": "Data Structure Marks",
         "rawType": "float64",
         "type": "float"
        },
        {
         "name": "Algorithm Marks",
         "rawType": "float64",
         "type": "float"
        },
        {
         "name": "Python Marks",
         "rawType": "float64",
         "type": "float"
        },
        {
         "name": "CompletionStatus",
         "rawType": "object",
         "type": "string"
        },
        {
         "name": "EnrollmentDate",
         "rawType": "object",
         "type": "string"
        },
        {
         "name": "Instructor",
         "rawType": "object",
         "type": "string"
        },
        {
         "name": "Location",
         "rawType": "object",
         "type": "string"
        }
       ],
       "ref": "4f2f6beb-af91-4a05-bca6-84559c85efb2",
       "rows": [
        [
         "17",
         "PH1018",
         "Babul Ahmed",
         "88.0",
         "88.0",
         "85.0",
         "Completed",
         "2025-09-05",
         "Ms. Salma",
         "Sylhet"
        ],
        [
         "18",
         "PH1019",
         "Faria Rahman",
         null,
         null,
         null,
         "Not Started",
         "2025-09-15",
         "Mr. David",
         "Chattogram"
        ],
        [
         "19",
         "PH1020",
         "Nasir Khan",
         "86.0",
         "86.0",
         "89.0",
         "Completed",
         "2025-10-02",
         "Ms. Salma",
         "Dhaka"
        ]
       ],
       "shape": {
        "columns": 9,
        "rows": 3
       }
      },
      "text/html": [
       "<div>\n",
       "<style scoped>\n",
       "    .dataframe tbody tr th:only-of-type {\n",
       "        vertical-align: middle;\n",
       "    }\n",
       "\n",
       "    .dataframe tbody tr th {\n",
       "        vertical-align: top;\n",
       "    }\n",
       "\n",
       "    .dataframe thead th {\n",
       "        text-align: right;\n",
       "    }\n",
       "</style>\n",
       "<table border=\"1\" class=\"dataframe\">\n",
       "  <thead>\n",
       "    <tr style=\"text-align: right;\">\n",
       "      <th></th>\n",
       "      <th>StudentID</th>\n",
       "      <th>FullName</th>\n",
       "      <th>Data Structure Marks</th>\n",
       "      <th>Algorithm Marks</th>\n",
       "      <th>Python Marks</th>\n",
       "      <th>CompletionStatus</th>\n",
       "      <th>EnrollmentDate</th>\n",
       "      <th>Instructor</th>\n",
       "      <th>Location</th>\n",
       "    </tr>\n",
       "  </thead>\n",
       "  <tbody>\n",
       "    <tr>\n",
       "      <th>17</th>\n",
       "      <td>PH1018</td>\n",
       "      <td>Babul Ahmed</td>\n",
       "      <td>88.0</td>\n",
       "      <td>88.0</td>\n",
       "      <td>85.0</td>\n",
       "      <td>Completed</td>\n",
       "      <td>2025-09-05</td>\n",
       "      <td>Ms. Salma</td>\n",
       "      <td>Sylhet</td>\n",
       "    </tr>\n",
       "    <tr>\n",
       "      <th>18</th>\n",
       "      <td>PH1019</td>\n",
       "      <td>Faria Rahman</td>\n",
       "      <td>NaN</td>\n",
       "      <td>NaN</td>\n",
       "      <td>NaN</td>\n",
       "      <td>Not Started</td>\n",
       "      <td>2025-09-15</td>\n",
       "      <td>Mr. David</td>\n",
       "      <td>Chattogram</td>\n",
       "    </tr>\n",
       "    <tr>\n",
       "      <th>19</th>\n",
       "      <td>PH1020</td>\n",
       "      <td>Nasir Khan</td>\n",
       "      <td>86.0</td>\n",
       "      <td>86.0</td>\n",
       "      <td>89.0</td>\n",
       "      <td>Completed</td>\n",
       "      <td>2025-10-02</td>\n",
       "      <td>Ms. Salma</td>\n",
       "      <td>Dhaka</td>\n",
       "    </tr>\n",
       "  </tbody>\n",
       "</table>\n",
       "</div>"
      ],
      "text/plain": [
       "   StudentID      FullName  Data Structure Marks  Algorithm Marks  \\\n",
       "17    PH1018   Babul Ahmed                  88.0             88.0   \n",
       "18    PH1019  Faria Rahman                   NaN              NaN   \n",
       "19    PH1020    Nasir Khan                  86.0             86.0   \n",
       "\n",
       "    Python Marks CompletionStatus EnrollmentDate Instructor    Location  \n",
       "17          85.0        Completed     2025-09-05  Ms. Salma      Sylhet  \n",
       "18           NaN      Not Started     2025-09-15  Mr. David  Chattogram  \n",
       "19          89.0        Completed     2025-10-02  Ms. Salma       Dhaka  "
      ]
     },
     "execution_count": 37,
     "metadata": {},
     "output_type": "execute_result"
    }
   ],
   "source": [
    "df.tail(3)"
   ]
  },
  {
   "cell_type": "code",
   "execution_count": 38,
   "id": "2bfb20d7",
   "metadata": {},
   "outputs": [
    {
     "name": "stdout",
     "output_type": "stream",
     "text": [
      "['StudentID', 'FullName', 'Data Structure Marks', 'Algorithm Marks', 'Python Marks', 'CompletionStatus', 'EnrollmentDate', 'Instructor', 'Location']\n"
     ]
    }
   ],
   "source": [
    "# column or features\n",
    "df.columns\n",
    "col = list(df.columns)\n",
    "print(col)"
   ]
  },
  {
   "cell_type": "code",
   "execution_count": 39,
   "id": "603d739b",
   "metadata": {},
   "outputs": [
    {
     "name": "stdout",
     "output_type": "stream",
     "text": [
      "['StudentID' 'FullName' 'Data Structure Marks' 'Algorithm Marks'\n",
      " 'Python Marks' 'CompletionStatus' 'EnrollmentDate' 'Instructor'\n",
      " 'Location']\n",
      "object\n"
     ]
    }
   ],
   "source": [
    "# we also convert columns to np array\n",
    "import numpy as np\n",
    "\n",
    "col = np.array(df.columns)\n",
    "print(col)\n",
    "print(col.dtype)"
   ]
  },
  {
   "cell_type": "code",
   "execution_count": 40,
   "id": "dbd1c2cc",
   "metadata": {},
   "outputs": [
    {
     "name": "stdout",
     "output_type": "stream",
     "text": [
      "[ 0  1  2  3  4  5  6  7  8  9 10 11 12 13 14 15 16 17 18 19]\n",
      "int64\n"
     ]
    }
   ],
   "source": [
    "# dataframe row / records index\n",
    "df.index\n",
    "indx = np.array(df.index)\n",
    "print(indx)\n",
    "print(indx.dtype)"
   ]
  },
  {
   "cell_type": "code",
   "execution_count": 41,
   "id": "708cf3cf",
   "metadata": {},
   "outputs": [
    {
     "name": "stdout",
     "output_type": "stream",
     "text": [
      "<class 'pandas.core.frame.DataFrame'>\n",
      "RangeIndex: 20 entries, 0 to 19\n",
      "Data columns (total 9 columns):\n",
      " #   Column                Non-Null Count  Dtype  \n",
      "---  ------                --------------  -----  \n",
      " 0   StudentID             20 non-null     object \n",
      " 1   FullName              20 non-null     object \n",
      " 2   Data Structure Marks  16 non-null     float64\n",
      " 3   Algorithm Marks       16 non-null     float64\n",
      " 4   Python Marks          15 non-null     float64\n",
      " 5   CompletionStatus      20 non-null     object \n",
      " 6   EnrollmentDate        20 non-null     object \n",
      " 7   Instructor            20 non-null     object \n",
      " 8   Location              20 non-null     object \n",
      "dtypes: float64(3), object(6)\n",
      "memory usage: 1.5+ KB\n"
     ]
    }
   ],
   "source": [
    "df.info()"
   ]
  },
  {
   "cell_type": "code",
   "execution_count": 47,
   "id": "48f7b6c9",
   "metadata": {},
   "outputs": [
    {
     "data": {
      "application/vnd.microsoft.datawrangler.viewer.v0+json": {
       "columns": [
        {
         "name": "index",
         "rawType": "int64",
         "type": "integer"
        },
        {
         "name": "StudentID",
         "rawType": "object",
         "type": "string"
        },
        {
         "name": "FullName",
         "rawType": "object",
         "type": "string"
        },
        {
         "name": "Data Structure Marks",
         "rawType": "float64",
         "type": "float"
        },
        {
         "name": "Algorithm Marks",
         "rawType": "float64",
         "type": "float"
        },
        {
         "name": "Python Marks",
         "rawType": "float64",
         "type": "float"
        },
        {
         "name": "CompletionStatus",
         "rawType": "object",
         "type": "string"
        },
        {
         "name": "EnrollmentDate",
         "rawType": "object",
         "type": "string"
        },
        {
         "name": "Instructor",
         "rawType": "object",
         "type": "string"
        },
        {
         "name": "Location",
         "rawType": "object",
         "type": "string"
        }
       ],
       "ref": "d832a685-a3a9-4989-bf13-f9c367b0e8fe",
       "rows": [
        [
         "12",
         "PH1013",
         "Tanvir Ahmed",
         "75.0",
         "75.0",
         "79.0",
         "Completed",
         "2024-07-02",
         "Mr. David",
         "Dhaka"
        ],
        [
         "2",
         "PH1003",
         "Imran Hossain",
         "88.0",
         "88.0",
         "85.0",
         "Completed",
         "2024-02-10",
         "Mr. Karim",
         "Dhaka"
        ],
        [
         "14",
         "PH1015",
         "Wahiduzzaman",
         "86.0",
         "86.0",
         "84.0",
         "Completed",
         "2024-08-18",
         "Mr. Karim",
         "Dhaka"
        ],
        [
         "11",
         "PH1012",
         "Sadia Chowdhury",
         "85.0",
         "85.0",
         "87.0",
         "Completed",
         "2024-06-14",
         "Ms. Salma",
         "Chattogram"
        ],
        [
         "19",
         "PH1020",
         "Nasir Khan",
         "86.0",
         "86.0",
         "89.0",
         "Completed",
         "2025-10-02",
         "Ms. Salma",
         "Dhaka"
        ],
        [
         "16",
         "PH1017",
         "Afsana Mimi",
         "90.0",
         "90.0",
         "93.0",
         "Completed",
         "2025-09-01",
         "Mr. Karim",
         "Dhaka"
        ],
        [
         "8",
         "PH1009",
         "Omar Faruq",
         "72.0",
         "72.0",
         "76.0",
         "Completed",
         "2024-05-16",
         "Mr. David",
         "Dhaka"
        ],
        [
         "15",
         "PH1016",
         "Ziaur Rahman",
         "94.0",
         "94.0",
         null,
         "In Progress",
         "2024-08-21",
         "Ms. Salma",
         "Chattogram"
        ],
        [
         "17",
         "PH1018",
         "Babul Ahmed",
         "88.0",
         "88.0",
         "85.0",
         "Completed",
         "2025-09-05",
         "Ms. Salma",
         "Sylhet"
        ],
        [
         "6",
         "PH1007",
         "Mahmudul Hasan",
         "80.0",
         "80.0",
         null,
         "In Progress",
         "2024-04-01",
         "Mr. Karim",
         "Dhaka"
        ]
       ],
       "shape": {
        "columns": 9,
        "rows": 10
       }
      },
      "text/html": [
       "<div>\n",
       "<style scoped>\n",
       "    .dataframe tbody tr th:only-of-type {\n",
       "        vertical-align: middle;\n",
       "    }\n",
       "\n",
       "    .dataframe tbody tr th {\n",
       "        vertical-align: top;\n",
       "    }\n",
       "\n",
       "    .dataframe thead th {\n",
       "        text-align: right;\n",
       "    }\n",
       "</style>\n",
       "<table border=\"1\" class=\"dataframe\">\n",
       "  <thead>\n",
       "    <tr style=\"text-align: right;\">\n",
       "      <th></th>\n",
       "      <th>StudentID</th>\n",
       "      <th>FullName</th>\n",
       "      <th>Data Structure Marks</th>\n",
       "      <th>Algorithm Marks</th>\n",
       "      <th>Python Marks</th>\n",
       "      <th>CompletionStatus</th>\n",
       "      <th>EnrollmentDate</th>\n",
       "      <th>Instructor</th>\n",
       "      <th>Location</th>\n",
       "    </tr>\n",
       "  </thead>\n",
       "  <tbody>\n",
       "    <tr>\n",
       "      <th>12</th>\n",
       "      <td>PH1013</td>\n",
       "      <td>Tanvir Ahmed</td>\n",
       "      <td>75.0</td>\n",
       "      <td>75.0</td>\n",
       "      <td>79.0</td>\n",
       "      <td>Completed</td>\n",
       "      <td>2024-07-02</td>\n",
       "      <td>Mr. David</td>\n",
       "      <td>Dhaka</td>\n",
       "    </tr>\n",
       "    <tr>\n",
       "      <th>2</th>\n",
       "      <td>PH1003</td>\n",
       "      <td>Imran Hossain</td>\n",
       "      <td>88.0</td>\n",
       "      <td>88.0</td>\n",
       "      <td>85.0</td>\n",
       "      <td>Completed</td>\n",
       "      <td>2024-02-10</td>\n",
       "      <td>Mr. Karim</td>\n",
       "      <td>Dhaka</td>\n",
       "    </tr>\n",
       "    <tr>\n",
       "      <th>14</th>\n",
       "      <td>PH1015</td>\n",
       "      <td>Wahiduzzaman</td>\n",
       "      <td>86.0</td>\n",
       "      <td>86.0</td>\n",
       "      <td>84.0</td>\n",
       "      <td>Completed</td>\n",
       "      <td>2024-08-18</td>\n",
       "      <td>Mr. Karim</td>\n",
       "      <td>Dhaka</td>\n",
       "    </tr>\n",
       "    <tr>\n",
       "      <th>11</th>\n",
       "      <td>PH1012</td>\n",
       "      <td>Sadia Chowdhury</td>\n",
       "      <td>85.0</td>\n",
       "      <td>85.0</td>\n",
       "      <td>87.0</td>\n",
       "      <td>Completed</td>\n",
       "      <td>2024-06-14</td>\n",
       "      <td>Ms. Salma</td>\n",
       "      <td>Chattogram</td>\n",
       "    </tr>\n",
       "    <tr>\n",
       "      <th>19</th>\n",
       "      <td>PH1020</td>\n",
       "      <td>Nasir Khan</td>\n",
       "      <td>86.0</td>\n",
       "      <td>86.0</td>\n",
       "      <td>89.0</td>\n",
       "      <td>Completed</td>\n",
       "      <td>2025-10-02</td>\n",
       "      <td>Ms. Salma</td>\n",
       "      <td>Dhaka</td>\n",
       "    </tr>\n",
       "    <tr>\n",
       "      <th>16</th>\n",
       "      <td>PH1017</td>\n",
       "      <td>Afsana Mimi</td>\n",
       "      <td>90.0</td>\n",
       "      <td>90.0</td>\n",
       "      <td>93.0</td>\n",
       "      <td>Completed</td>\n",
       "      <td>2025-09-01</td>\n",
       "      <td>Mr. Karim</td>\n",
       "      <td>Dhaka</td>\n",
       "    </tr>\n",
       "    <tr>\n",
       "      <th>8</th>\n",
       "      <td>PH1009</td>\n",
       "      <td>Omar Faruq</td>\n",
       "      <td>72.0</td>\n",
       "      <td>72.0</td>\n",
       "      <td>76.0</td>\n",
       "      <td>Completed</td>\n",
       "      <td>2024-05-16</td>\n",
       "      <td>Mr. David</td>\n",
       "      <td>Dhaka</td>\n",
       "    </tr>\n",
       "    <tr>\n",
       "      <th>15</th>\n",
       "      <td>PH1016</td>\n",
       "      <td>Ziaur Rahman</td>\n",
       "      <td>94.0</td>\n",
       "      <td>94.0</td>\n",
       "      <td>NaN</td>\n",
       "      <td>In Progress</td>\n",
       "      <td>2024-08-21</td>\n",
       "      <td>Ms. Salma</td>\n",
       "      <td>Chattogram</td>\n",
       "    </tr>\n",
       "    <tr>\n",
       "      <th>17</th>\n",
       "      <td>PH1018</td>\n",
       "      <td>Babul Ahmed</td>\n",
       "      <td>88.0</td>\n",
       "      <td>88.0</td>\n",
       "      <td>85.0</td>\n",
       "      <td>Completed</td>\n",
       "      <td>2025-09-05</td>\n",
       "      <td>Ms. Salma</td>\n",
       "      <td>Sylhet</td>\n",
       "    </tr>\n",
       "    <tr>\n",
       "      <th>6</th>\n",
       "      <td>PH1007</td>\n",
       "      <td>Mahmudul Hasan</td>\n",
       "      <td>80.0</td>\n",
       "      <td>80.0</td>\n",
       "      <td>NaN</td>\n",
       "      <td>In Progress</td>\n",
       "      <td>2024-04-01</td>\n",
       "      <td>Mr. Karim</td>\n",
       "      <td>Dhaka</td>\n",
       "    </tr>\n",
       "  </tbody>\n",
       "</table>\n",
       "</div>"
      ],
      "text/plain": [
       "   StudentID         FullName  Data Structure Marks  Algorithm Marks  \\\n",
       "12    PH1013     Tanvir Ahmed                  75.0             75.0   \n",
       "2     PH1003    Imran Hossain                  88.0             88.0   \n",
       "14    PH1015     Wahiduzzaman                  86.0             86.0   \n",
       "11    PH1012  Sadia Chowdhury                  85.0             85.0   \n",
       "19    PH1020       Nasir Khan                  86.0             86.0   \n",
       "16    PH1017      Afsana Mimi                  90.0             90.0   \n",
       "8     PH1009       Omar Faruq                  72.0             72.0   \n",
       "15    PH1016     Ziaur Rahman                  94.0             94.0   \n",
       "17    PH1018      Babul Ahmed                  88.0             88.0   \n",
       "6     PH1007   Mahmudul Hasan                  80.0             80.0   \n",
       "\n",
       "    Python Marks CompletionStatus EnrollmentDate Instructor    Location  \n",
       "12          79.0        Completed     2024-07-02  Mr. David       Dhaka  \n",
       "2           85.0        Completed     2024-02-10  Mr. Karim       Dhaka  \n",
       "14          84.0        Completed     2024-08-18  Mr. Karim       Dhaka  \n",
       "11          87.0        Completed     2024-06-14  Ms. Salma  Chattogram  \n",
       "19          89.0        Completed     2025-10-02  Ms. Salma       Dhaka  \n",
       "16          93.0        Completed     2025-09-01  Mr. Karim       Dhaka  \n",
       "8           76.0        Completed     2024-05-16  Mr. David       Dhaka  \n",
       "15           NaN      In Progress     2024-08-21  Ms. Salma  Chattogram  \n",
       "17          85.0        Completed     2025-09-05  Ms. Salma      Sylhet  \n",
       "6            NaN      In Progress     2024-04-01  Mr. Karim       Dhaka  "
      ]
     },
     "execution_count": 47,
     "metadata": {},
     "output_type": "execute_result"
    }
   ],
   "source": [
    "df.sample(10)"
   ]
  },
  {
   "cell_type": "code",
   "execution_count": 48,
   "id": "6e477b1c",
   "metadata": {},
   "outputs": [
    {
     "data": {
      "application/vnd.microsoft.datawrangler.viewer.v0+json": {
       "columns": [
        {
         "name": "index",
         "rawType": "object",
         "type": "string"
        },
        {
         "name": "Data Structure Marks",
         "rawType": "float64",
         "type": "float"
        },
        {
         "name": "Algorithm Marks",
         "rawType": "float64",
         "type": "float"
        },
        {
         "name": "Python Marks",
         "rawType": "float64",
         "type": "float"
        }
       ],
       "ref": "d3ccf4da-2a2a-4bce-9660-58ea94c8b0d5",
       "rows": [
        [
         "count",
         "16.0",
         "16.0",
         "15.0"
        ],
        [
         "mean",
         "84.0",
         "84.0",
         "85.66666666666667"
        ],
        [
         "std",
         "6.501281924871945",
         "6.501281924871945",
         "5.394000194219323"
        ],
        [
         "min",
         "72.0",
         "72.0",
         "76.0"
        ],
        [
         "25%",
         "79.5",
         "79.5",
         "83.0"
        ],
        [
         "50%",
         "85.5",
         "85.5",
         "85.0"
        ],
        [
         "75%",
         "88.25",
         "88.25",
         "88.5"
        ],
        [
         "max",
         "94.0",
         "94.0",
         "95.0"
        ]
       ],
       "shape": {
        "columns": 3,
        "rows": 8
       }
      },
      "text/html": [
       "<div>\n",
       "<style scoped>\n",
       "    .dataframe tbody tr th:only-of-type {\n",
       "        vertical-align: middle;\n",
       "    }\n",
       "\n",
       "    .dataframe tbody tr th {\n",
       "        vertical-align: top;\n",
       "    }\n",
       "\n",
       "    .dataframe thead th {\n",
       "        text-align: right;\n",
       "    }\n",
       "</style>\n",
       "<table border=\"1\" class=\"dataframe\">\n",
       "  <thead>\n",
       "    <tr style=\"text-align: right;\">\n",
       "      <th></th>\n",
       "      <th>Data Structure Marks</th>\n",
       "      <th>Algorithm Marks</th>\n",
       "      <th>Python Marks</th>\n",
       "    </tr>\n",
       "  </thead>\n",
       "  <tbody>\n",
       "    <tr>\n",
       "      <th>count</th>\n",
       "      <td>16.000000</td>\n",
       "      <td>16.000000</td>\n",
       "      <td>15.000000</td>\n",
       "    </tr>\n",
       "    <tr>\n",
       "      <th>mean</th>\n",
       "      <td>84.000000</td>\n",
       "      <td>84.000000</td>\n",
       "      <td>85.666667</td>\n",
       "    </tr>\n",
       "    <tr>\n",
       "      <th>std</th>\n",
       "      <td>6.501282</td>\n",
       "      <td>6.501282</td>\n",
       "      <td>5.394000</td>\n",
       "    </tr>\n",
       "    <tr>\n",
       "      <th>min</th>\n",
       "      <td>72.000000</td>\n",
       "      <td>72.000000</td>\n",
       "      <td>76.000000</td>\n",
       "    </tr>\n",
       "    <tr>\n",
       "      <th>25%</th>\n",
       "      <td>79.500000</td>\n",
       "      <td>79.500000</td>\n",
       "      <td>83.000000</td>\n",
       "    </tr>\n",
       "    <tr>\n",
       "      <th>50%</th>\n",
       "      <td>85.500000</td>\n",
       "      <td>85.500000</td>\n",
       "      <td>85.000000</td>\n",
       "    </tr>\n",
       "    <tr>\n",
       "      <th>75%</th>\n",
       "      <td>88.250000</td>\n",
       "      <td>88.250000</td>\n",
       "      <td>88.500000</td>\n",
       "    </tr>\n",
       "    <tr>\n",
       "      <th>max</th>\n",
       "      <td>94.000000</td>\n",
       "      <td>94.000000</td>\n",
       "      <td>95.000000</td>\n",
       "    </tr>\n",
       "  </tbody>\n",
       "</table>\n",
       "</div>"
      ],
      "text/plain": [
       "       Data Structure Marks  Algorithm Marks  Python Marks\n",
       "count             16.000000        16.000000     15.000000\n",
       "mean              84.000000        84.000000     85.666667\n",
       "std                6.501282         6.501282      5.394000\n",
       "min               72.000000        72.000000     76.000000\n",
       "25%               79.500000        79.500000     83.000000\n",
       "50%               85.500000        85.500000     85.000000\n",
       "75%               88.250000        88.250000     88.500000\n",
       "max               94.000000        94.000000     95.000000"
      ]
     },
     "execution_count": 48,
     "metadata": {},
     "output_type": "execute_result"
    }
   ],
   "source": [
    "df.describe()"
   ]
  },
  {
   "cell_type": "markdown",
   "id": "cee1d12c",
   "metadata": {},
   "source": [
    "#### Transforming to df from inbuilt datas"
   ]
  },
  {
   "cell_type": "code",
   "execution_count": 50,
   "id": "85f5ffa3",
   "metadata": {},
   "outputs": [
    {
     "name": "stdout",
     "output_type": "stream",
     "text": [
      "      Name  Age\n",
      "0    Alice   25\n",
      "1      Bob   30\n",
      "2  Charlie   28\n",
      "<class 'pandas.core.frame.DataFrame'>\n"
     ]
    }
   ],
   "source": [
    "my_list = [\n",
    "    ['Alice', 25],\n",
    "    ['Bob', 30],\n",
    "    ['Charlie',28]\n",
    "]\n",
    "\n",
    "list_df = pd.DataFrame(my_list, columns=['Name','Age'])\n",
    "print(list_df)\n",
    "print(type(list_df))"
   ]
  },
  {
   "cell_type": "code",
   "execution_count": null,
   "id": "25ef38e5",
   "metadata": {},
   "outputs": [],
   "source": []
  }
 ],
 "metadata": {
  "kernelspec": {
   "display_name": "anaconda-ml-ai",
   "language": "python",
   "name": "python3"
  },
  "language_info": {
   "codemirror_mode": {
    "name": "ipython",
    "version": 3
   },
   "file_extension": ".py",
   "mimetype": "text/x-python",
   "name": "python",
   "nbconvert_exporter": "python",
   "pygments_lexer": "ipython3",
   "version": "3.11.14"
  }
 },
 "nbformat": 4,
 "nbformat_minor": 5
}
