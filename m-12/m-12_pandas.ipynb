{
 "cells": [
  {
   "cell_type": "code",
   "execution_count": 11,
   "id": "5861455c",
   "metadata": {},
   "outputs": [],
   "source": [
    "import pandas as pd"
   ]
  },
  {
   "cell_type": "code",
   "execution_count": 12,
   "id": "c6bdff4e",
   "metadata": {},
   "outputs": [
    {
     "name": "stdout",
     "output_type": "stream",
     "text": [
      "  StudentID          FullName  Data Structure Marks  Algorithm Marks  \\\n",
      "0    PH1001       Alif Rahman                  85.0             85.0   \n",
      "1    PH1002     Fatima Akhter                  92.0             92.0   \n",
      "2    PH1003     Imran Hossain                  88.0             88.0   \n",
      "3    PH1004  Jannatul Ferdous                  78.0             78.0   \n",
      "4    PH1005       Kamal Uddin                   NaN              NaN   \n",
      "\n",
      "   Python Marks CompletionStatus EnrollmentDate Instructor    Location  \n",
      "0          88.0        Completed     2024-01-15  Mr. Karim       Dhaka  \n",
      "1           NaN      In Progress     2024-01-20  Ms. Salma  Chattogram  \n",
      "2          85.0        Completed     2024-02-10  Mr. Karim       Dhaka  \n",
      "3          82.0        Completed     2024-02-12  Ms. Salma      Sylhet  \n",
      "4          95.0      In Progress     2024-03-05  Mr. Karim  Chattogram  \n"
     ]
    }
   ],
   "source": [
    "df = pd.read_csv(r\"student_data.csv\")\n",
    "print(df.head())"
   ]
  },
  {
   "cell_type": "code",
   "execution_count": 13,
   "id": "4892477f",
   "metadata": {},
   "outputs": [
    {
     "name": "stdout",
     "output_type": "stream",
     "text": [
      "0     PH1001\n",
      "1     PH1002\n",
      "2     PH1003\n",
      "3     PH1004\n",
      "4     PH1005\n",
      "5     PH1006\n",
      "6     PH1007\n",
      "7     PH1008\n",
      "8     PH1009\n",
      "9     PH1010\n",
      "10    PH1011\n",
      "11    PH1012\n",
      "12    PH1013\n",
      "13    PH1014\n",
      "14    PH1015\n",
      "15    PH1016\n",
      "16    PH1017\n",
      "17    PH1018\n",
      "18    PH1019\n",
      "19    PH1020\n",
      "Name: StudentID, dtype: object\n",
      "<class 'pandas.core.series.Series'>\n"
     ]
    }
   ],
   "source": [
    "student_id = df['StudentID']\n",
    "print(student_id)\n",
    "print(type(student_id))"
   ]
  },
  {
   "cell_type": "code",
   "execution_count": 14,
   "id": "f0aad06f",
   "metadata": {},
   "outputs": [
    {
     "name": "stdout",
     "output_type": "stream",
     "text": [
      "  StudentID          FullName  Data Structure Marks  Algorithm Marks  \\\n",
      "0    PH1001       Alif Rahman                  85.0             85.0   \n",
      "1    PH1002     Fatima Akhter                  92.0             92.0   \n",
      "2    PH1003     Imran Hossain                  88.0             88.0   \n",
      "3    PH1004  Jannatul Ferdous                  78.0             78.0   \n",
      "4    PH1005       Kamal Uddin                   NaN              NaN   \n",
      "\n",
      "   Python Marks CompletionStatus EnrollmentDate Instructor    Location  \n",
      "0          88.0        Completed     2024-01-15  Mr. Karim       Dhaka  \n",
      "1           NaN      In Progress     2024-01-20  Ms. Salma  Chattogram  \n",
      "2          85.0        Completed     2024-02-10  Mr. Karim       Dhaka  \n",
      "3          82.0        Completed     2024-02-12  Ms. Salma      Sylhet  \n",
      "4          95.0      In Progress     2024-03-05  Mr. Karim  Chattogram  \n",
      "<class 'pandas.core.frame.DataFrame'>\n"
     ]
    }
   ],
   "source": [
    "excel_df = pd.read_excel(\"phitron_student_marks.xlsx\")\n",
    "print(excel_df.head())\n",
    "print(type(excel_df))"
   ]
  },
  {
   "cell_type": "code",
   "execution_count": 15,
   "id": "b36114a1",
   "metadata": {},
   "outputs": [
    {
     "name": "stdout",
     "output_type": "stream",
     "text": [
      "  StudentID          FullName  Data Structure Marks  Algorithm Marks  \\\n",
      "0    PH1001       Alif Rahman                  85.0             85.0   \n",
      "1    PH1002     Fatima Akhter                  92.0             92.0   \n",
      "2    PH1003     Imran Hossain                  88.0             88.0   \n",
      "3    PH1004  Jannatul Ferdous                  78.0             78.0   \n",
      "4    PH1005       Kamal Uddin                   NaN              NaN   \n",
      "\n",
      "   Python Marks CompletionStatus EnrollmentDate Instructor    Location  \n",
      "0          88.0        Completed     2024-01-15  Mr. Karim       Dhaka  \n",
      "1           NaN      In Progress     2024-01-20  Ms. Salma  Chattogram  \n",
      "2          85.0        Completed     2024-02-10  Mr. Karim       Dhaka  \n",
      "3          82.0        Completed     2024-02-12  Ms. Salma      Sylhet  \n",
      "4          95.0      In Progress     2024-03-05  Mr. Karim  Chattogram  \n",
      "<class 'pandas.core.frame.DataFrame'>\n"
     ]
    }
   ],
   "source": [
    "#parquet file\n",
    "parquet_df = pd.read_parquet(\"students.parquet\")\n",
    "print(parquet_df.head())\n",
    "print(type(parquet_df))"
   ]
  },
  {
   "cell_type": "code",
   "execution_count": 16,
   "id": "354ebfad",
   "metadata": {},
   "outputs": [
    {
     "name": "stdout",
     "output_type": "stream",
     "text": [
      "  StudentID          FullName  Data Structure Marks  Algorithm Marks  \\\n",
      "0    PH1001       Alif Rahman                    85               85   \n",
      "1    PH1002     Fatima Akhter                    92               92   \n",
      "2    PH1004  Jannatul Ferdous                    78               78   \n",
      "\n",
      "   Python Marks  \n",
      "0            88  \n",
      "1            90  \n",
      "2            82  \n",
      "<class 'pandas.core.frame.DataFrame'>\n"
     ]
    }
   ],
   "source": [
    "#jason file\n",
    "json_file = pd.read_json(\"data.json\")\n",
    "print(json_file)\n",
    "print(type(json_file))"
   ]
  },
  {
   "cell_type": "code",
   "execution_count": 17,
   "id": "b5918cba",
   "metadata": {},
   "outputs": [
    {
     "data": {
      "application/vnd.microsoft.datawrangler.viewer.v0+json": {
       "columns": [
        {
         "name": "index",
         "rawType": "int64",
         "type": "integer"
        },
        {
         "name": "StudentID",
         "rawType": "object",
         "type": "string"
        },
        {
         "name": "FullName",
         "rawType": "object",
         "type": "string"
        },
        {
         "name": "Data Structure Marks",
         "rawType": "float64",
         "type": "float"
        },
        {
         "name": "Algorithm Marks",
         "rawType": "float64",
         "type": "float"
        },
        {
         "name": "Python Marks",
         "rawType": "float64",
         "type": "float"
        },
        {
         "name": "CompletionStatus",
         "rawType": "object",
         "type": "string"
        },
        {
         "name": "EnrollmentDate",
         "rawType": "object",
         "type": "string"
        },
        {
         "name": "Instructor",
         "rawType": "object",
         "type": "string"
        },
        {
         "name": "Location",
         "rawType": "object",
         "type": "string"
        }
       ],
       "ref": "6ea42a38-e25a-4f59-9a1a-64785a448c88",
       "rows": [
        [
         "0",
         "PH1001",
         "Alif Rahman",
         "85.0",
         "85.0",
         "88.0",
         "Completed",
         "2024-01-15",
         "Mr. Karim",
         "Dhaka"
        ],
        [
         "1",
         "PH1002",
         "Fatima Akhter",
         "92.0",
         "92.0",
         null,
         "In Progress",
         "2024-01-20",
         "Ms. Salma",
         "Chattogram"
        ],
        [
         "2",
         "PH1003",
         "Imran Hossain",
         "88.0",
         "88.0",
         "85.0",
         "Completed",
         "2024-02-10",
         "Mr. Karim",
         "Dhaka"
        ]
       ],
       "shape": {
        "columns": 9,
        "rows": 3
       }
      },
      "text/html": [
       "<div>\n",
       "<style scoped>\n",
       "    .dataframe tbody tr th:only-of-type {\n",
       "        vertical-align: middle;\n",
       "    }\n",
       "\n",
       "    .dataframe tbody tr th {\n",
       "        vertical-align: top;\n",
       "    }\n",
       "\n",
       "    .dataframe thead th {\n",
       "        text-align: right;\n",
       "    }\n",
       "</style>\n",
       "<table border=\"1\" class=\"dataframe\">\n",
       "  <thead>\n",
       "    <tr style=\"text-align: right;\">\n",
       "      <th></th>\n",
       "      <th>StudentID</th>\n",
       "      <th>FullName</th>\n",
       "      <th>Data Structure Marks</th>\n",
       "      <th>Algorithm Marks</th>\n",
       "      <th>Python Marks</th>\n",
       "      <th>CompletionStatus</th>\n",
       "      <th>EnrollmentDate</th>\n",
       "      <th>Instructor</th>\n",
       "      <th>Location</th>\n",
       "    </tr>\n",
       "  </thead>\n",
       "  <tbody>\n",
       "    <tr>\n",
       "      <th>0</th>\n",
       "      <td>PH1001</td>\n",
       "      <td>Alif Rahman</td>\n",
       "      <td>85.0</td>\n",
       "      <td>85.0</td>\n",
       "      <td>88.0</td>\n",
       "      <td>Completed</td>\n",
       "      <td>2024-01-15</td>\n",
       "      <td>Mr. Karim</td>\n",
       "      <td>Dhaka</td>\n",
       "    </tr>\n",
       "    <tr>\n",
       "      <th>1</th>\n",
       "      <td>PH1002</td>\n",
       "      <td>Fatima Akhter</td>\n",
       "      <td>92.0</td>\n",
       "      <td>92.0</td>\n",
       "      <td>NaN</td>\n",
       "      <td>In Progress</td>\n",
       "      <td>2024-01-20</td>\n",
       "      <td>Ms. Salma</td>\n",
       "      <td>Chattogram</td>\n",
       "    </tr>\n",
       "    <tr>\n",
       "      <th>2</th>\n",
       "      <td>PH1003</td>\n",
       "      <td>Imran Hossain</td>\n",
       "      <td>88.0</td>\n",
       "      <td>88.0</td>\n",
       "      <td>85.0</td>\n",
       "      <td>Completed</td>\n",
       "      <td>2024-02-10</td>\n",
       "      <td>Mr. Karim</td>\n",
       "      <td>Dhaka</td>\n",
       "    </tr>\n",
       "  </tbody>\n",
       "</table>\n",
       "</div>"
      ],
      "text/plain": [
       "  StudentID       FullName  Data Structure Marks  Algorithm Marks  \\\n",
       "0    PH1001    Alif Rahman                  85.0             85.0   \n",
       "1    PH1002  Fatima Akhter                  92.0             92.0   \n",
       "2    PH1003  Imran Hossain                  88.0             88.0   \n",
       "\n",
       "   Python Marks CompletionStatus EnrollmentDate Instructor    Location  \n",
       "0          88.0        Completed     2024-01-15  Mr. Karim       Dhaka  \n",
       "1           NaN      In Progress     2024-01-20  Ms. Salma  Chattogram  \n",
       "2          85.0        Completed     2024-02-10  Mr. Karim       Dhaka  "
      ]
     },
     "execution_count": 17,
     "metadata": {},
     "output_type": "execute_result"
    }
   ],
   "source": [
    "df = pd.read_csv(\"student_data.csv\")\n",
    "df.head(3)"
   ]
  },
  {
   "cell_type": "code",
   "execution_count": 18,
   "id": "5854f2d9",
   "metadata": {},
   "outputs": [
    {
     "data": {
      "application/vnd.microsoft.datawrangler.viewer.v0+json": {
       "columns": [
        {
         "name": "index",
         "rawType": "int64",
         "type": "integer"
        },
        {
         "name": "StudentID",
         "rawType": "object",
         "type": "string"
        },
        {
         "name": "FullName",
         "rawType": "object",
         "type": "string"
        },
        {
         "name": "Data Structure Marks",
         "rawType": "float64",
         "type": "float"
        },
        {
         "name": "Algorithm Marks",
         "rawType": "float64",
         "type": "float"
        },
        {
         "name": "Python Marks",
         "rawType": "float64",
         "type": "float"
        },
        {
         "name": "CompletionStatus",
         "rawType": "object",
         "type": "string"
        },
        {
         "name": "EnrollmentDate",
         "rawType": "object",
         "type": "string"
        },
        {
         "name": "Instructor",
         "rawType": "object",
         "type": "string"
        },
        {
         "name": "Location",
         "rawType": "object",
         "type": "string"
        }
       ],
       "ref": "af127031-08a9-4bde-8531-1503874670c9",
       "rows": [
        [
         "17",
         "PH1018",
         "Babul Ahmed",
         "88.0",
         "88.0",
         "85.0",
         "Completed",
         "2025-09-05",
         "Ms. Salma",
         "Sylhet"
        ],
        [
         "18",
         "PH1019",
         "Faria Rahman",
         null,
         null,
         null,
         "Not Started",
         "2025-09-15",
         "Mr. David",
         "Chattogram"
        ],
        [
         "19",
         "PH1020",
         "Nasir Khan",
         "86.0",
         "86.0",
         "89.0",
         "Completed",
         "2025-10-02",
         "Ms. Salma",
         "Dhaka"
        ]
       ],
       "shape": {
        "columns": 9,
        "rows": 3
       }
      },
      "text/html": [
       "<div>\n",
       "<style scoped>\n",
       "    .dataframe tbody tr th:only-of-type {\n",
       "        vertical-align: middle;\n",
       "    }\n",
       "\n",
       "    .dataframe tbody tr th {\n",
       "        vertical-align: top;\n",
       "    }\n",
       "\n",
       "    .dataframe thead th {\n",
       "        text-align: right;\n",
       "    }\n",
       "</style>\n",
       "<table border=\"1\" class=\"dataframe\">\n",
       "  <thead>\n",
       "    <tr style=\"text-align: right;\">\n",
       "      <th></th>\n",
       "      <th>StudentID</th>\n",
       "      <th>FullName</th>\n",
       "      <th>Data Structure Marks</th>\n",
       "      <th>Algorithm Marks</th>\n",
       "      <th>Python Marks</th>\n",
       "      <th>CompletionStatus</th>\n",
       "      <th>EnrollmentDate</th>\n",
       "      <th>Instructor</th>\n",
       "      <th>Location</th>\n",
       "    </tr>\n",
       "  </thead>\n",
       "  <tbody>\n",
       "    <tr>\n",
       "      <th>17</th>\n",
       "      <td>PH1018</td>\n",
       "      <td>Babul Ahmed</td>\n",
       "      <td>88.0</td>\n",
       "      <td>88.0</td>\n",
       "      <td>85.0</td>\n",
       "      <td>Completed</td>\n",
       "      <td>2025-09-05</td>\n",
       "      <td>Ms. Salma</td>\n",
       "      <td>Sylhet</td>\n",
       "    </tr>\n",
       "    <tr>\n",
       "      <th>18</th>\n",
       "      <td>PH1019</td>\n",
       "      <td>Faria Rahman</td>\n",
       "      <td>NaN</td>\n",
       "      <td>NaN</td>\n",
       "      <td>NaN</td>\n",
       "      <td>Not Started</td>\n",
       "      <td>2025-09-15</td>\n",
       "      <td>Mr. David</td>\n",
       "      <td>Chattogram</td>\n",
       "    </tr>\n",
       "    <tr>\n",
       "      <th>19</th>\n",
       "      <td>PH1020</td>\n",
       "      <td>Nasir Khan</td>\n",
       "      <td>86.0</td>\n",
       "      <td>86.0</td>\n",
       "      <td>89.0</td>\n",
       "      <td>Completed</td>\n",
       "      <td>2025-10-02</td>\n",
       "      <td>Ms. Salma</td>\n",
       "      <td>Dhaka</td>\n",
       "    </tr>\n",
       "  </tbody>\n",
       "</table>\n",
       "</div>"
      ],
      "text/plain": [
       "   StudentID      FullName  Data Structure Marks  Algorithm Marks  \\\n",
       "17    PH1018   Babul Ahmed                  88.0             88.0   \n",
       "18    PH1019  Faria Rahman                   NaN              NaN   \n",
       "19    PH1020    Nasir Khan                  86.0             86.0   \n",
       "\n",
       "    Python Marks CompletionStatus EnrollmentDate Instructor    Location  \n",
       "17          85.0        Completed     2025-09-05  Ms. Salma      Sylhet  \n",
       "18           NaN      Not Started     2025-09-15  Mr. David  Chattogram  \n",
       "19          89.0        Completed     2025-10-02  Ms. Salma       Dhaka  "
      ]
     },
     "execution_count": 18,
     "metadata": {},
     "output_type": "execute_result"
    }
   ],
   "source": [
    "df.tail(3)"
   ]
  },
  {
   "cell_type": "code",
   "execution_count": null,
   "id": "2bfb20d7",
   "metadata": {},
   "outputs": [],
   "source": []
  }
 ],
 "metadata": {
  "kernelspec": {
   "display_name": "anaconda-ml-ai",
   "language": "python",
   "name": "python3"
  },
  "language_info": {
   "codemirror_mode": {
    "name": "ipython",
    "version": 3
   },
   "file_extension": ".py",
   "mimetype": "text/x-python",
   "name": "python",
   "nbconvert_exporter": "python",
   "pygments_lexer": "ipython3",
   "version": "3.11.14"
  }
 },
 "nbformat": 4,
 "nbformat_minor": 5
}
