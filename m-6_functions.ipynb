{
 "cells": [
  {
   "cell_type": "markdown",
   "id": "e5504df1",
   "metadata": {},
   "source": [
    "### Lambda function"
   ]
  },
  {
   "cell_type": "code",
   "execution_count": 3,
   "id": "a499cd6b",
   "metadata": {},
   "outputs": [
    {
     "name": "stdout",
     "output_type": "stream",
     "text": [
      "13\n"
     ]
    }
   ],
   "source": [
    "sq_sum = lambda x,y : x**2 + y**2\n",
    "print(sq_sum(2,3)) "
   ]
  },
  {
   "cell_type": "markdown",
   "id": "e4e9d066",
   "metadata": {},
   "source": [
    "### Map Function"
   ]
  },
  {
   "cell_type": "code",
   "execution_count": 2,
   "id": "8c73b594",
   "metadata": {},
   "outputs": [
    {
     "name": "stdout",
     "output_type": "stream",
     "text": [
      "[4, 9, 16, 25, 36, 49, 64, 81]\n"
     ]
    }
   ],
   "source": [
    "lst = [2,3,4,5,6,7,8,9]\n",
    "\n",
    "def squire(x):\n",
    "    return x**2\n",
    "\n",
    "lst = list(map(squire, lst))\n",
    "print(lst)"
   ]
  },
  {
   "cell_type": "code",
   "execution_count": 6,
   "id": "7b7860f8",
   "metadata": {},
   "outputs": [
    {
     "name": "stdout",
     "output_type": "stream",
     "text": [
      "['H', 'E', 'L', 'L', 'O', ' ', 'W', 'O', 'R', 'L', 'D']\n",
      "H E L L O   W O R L D\n"
     ]
    }
   ],
   "source": [
    "string = \"Hello World\"\n",
    "\n",
    "string1 = list(map(str.upper,string))\n",
    "\n",
    "print(string1)\n",
    "\n",
    "string2 = \" \".join(string1)\n",
    "print(string2)"
   ]
  },
  {
   "cell_type": "code",
   "execution_count": 8,
   "id": "a96f9569",
   "metadata": {},
   "outputs": [
    {
     "name": "stdout",
     "output_type": "stream",
     "text": [
      "[4, 3, 16, 5, 36, 7, 64, 9]\n"
     ]
    }
   ],
   "source": [
    "lst = [2,3,4,5,6,7,8,9]\n",
    "\n",
    "lst = list(map(lambda x: x**2 if x%2==0 else x, lst))\n",
    "print(lst)"
   ]
  },
  {
   "cell_type": "markdown",
   "id": "8fec2000",
   "metadata": {},
   "source": [
    "### Filter"
   ]
  },
  {
   "cell_type": "code",
   "execution_count": 9,
   "id": "a108dcbf",
   "metadata": {},
   "outputs": [
    {
     "name": "stdout",
     "output_type": "stream",
     "text": [
      "[2, 4, 6, 8, 10, 12, 14, 16, 18, 20, 22, 24, 26, 28, 30, 32, 34, 36, 38, 40, 42, 44, 46, 48, 50, 52, 54, 56, 58, 60, 62, 64, 66, 68, 70, 72, 74, 76, 78, 80, 82, 84, 86, 88, 90, 92, 94, 96, 98, 100]\n"
     ]
    }
   ],
   "source": [
    "nums = [x for x in range(1,101)]\n",
    "\n",
    "even  = list(filter(lambda x : x % 2 == 0, nums))\n",
    "print(even)"
   ]
  },
  {
   "cell_type": "code",
   "execution_count": null,
   "id": "6d9ed256",
   "metadata": {},
   "outputs": [],
   "source": []
  }
 ],
 "metadata": {
  "kernelspec": {
   "display_name": "anaconda-ml-ai",
   "language": "python",
   "name": "python3"
  },
  "language_info": {
   "codemirror_mode": {
    "name": "ipython",
    "version": 3
   },
   "file_extension": ".py",
   "mimetype": "text/x-python",
   "name": "python",
   "nbconvert_exporter": "python",
   "pygments_lexer": "ipython3",
   "version": "3.11.13"
  }
 },
 "nbformat": 4,
 "nbformat_minor": 5
}
